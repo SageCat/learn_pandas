{
 "cells": [
  {
   "cell_type": "code",
   "execution_count": 196,
   "id": "7ddc1eb8",
   "metadata": {
    "pycharm": {
     "name": "#%%\n"
    }
   },
   "outputs": [],
   "source": [
    "import pandas as pd"
   ]
  },
  {
   "cell_type": "markdown",
   "source": [
    "1. 使用 `melt()` 函数处理列名中有 value 的数据，做转置"
   ],
   "metadata": {
    "collapsed": false,
    "pycharm": {
     "name": "#%% md\n"
    }
   }
  },
  {
   "cell_type": "code",
   "execution_count": 197,
   "id": "d4fe65b4",
   "metadata": {
    "pycharm": {
     "name": "#%%\n"
    }
   },
   "outputs": [
    {
     "data": {
      "text/plain": "                   religion  <$10k  $10-20k  $20-30k  $30-40k  $40-50k  \\\n0                  Agnostic     27       34       60       81       76   \n1                   Atheist     12       27       37       52       35   \n2                  Buddhist     27       21       30       34       33   \n3                  Catholic    418      617      732      670      638   \n4        Don’t know/refused     15       14       15       11       10   \n5          Evangelical Prot    575      869     1064      982      881   \n6                     Hindu      1        9        7        9       11   \n7   Historically Black Prot    228      244      236      238      197   \n8         Jehovah's Witness     20       27       24       24       21   \n9                    Jewish     19       19       25       25       30   \n10            Mainline Prot    289      495      619      655      651   \n11                   Mormon     29       40       48       51       56   \n12                   Muslim      6        7        9       10        9   \n13                 Orthodox     13       17       23       32       32   \n14          Other Christian      9        7       11       13       13   \n15             Other Faiths     20       33       40       46       49   \n16    Other World Religions      5        2        3        4        2   \n17             Unaffiliated    217      299      374      365      341   \n\n    $50-75k  $75-100k  $100-150k  >150k  Don't know/refused  \n0       137       122        109     84                  96  \n1        70        73         59     74                  76  \n2        58        62         39     53                  54  \n3      1116       949        792    633                1489  \n4        35        21         17     18                 116  \n5      1486       949        723    414                1529  \n6        34        47         48     54                  37  \n7       223       131         81     78                 339  \n8        30        15         11      6                  37  \n9        95        69         87    151                 162  \n10     1107       939        753    634                1328  \n11      112        85         49     42                  69  \n12       23        16          8      6                  22  \n13       47        38         42     46                  73  \n14       14        18         14     12                  18  \n15       63        46         40     41                  71  \n16        7         3          4      4                   8  \n17      528       407        321    258                 597  ",
      "text/html": "<div>\n<style scoped>\n    .dataframe tbody tr th:only-of-type {\n        vertical-align: middle;\n    }\n\n    .dataframe tbody tr th {\n        vertical-align: top;\n    }\n\n    .dataframe thead th {\n        text-align: right;\n    }\n</style>\n<table border=\"1\" class=\"dataframe\">\n  <thead>\n    <tr style=\"text-align: right;\">\n      <th></th>\n      <th>religion</th>\n      <th>&lt;$10k</th>\n      <th>$10-20k</th>\n      <th>$20-30k</th>\n      <th>$30-40k</th>\n      <th>$40-50k</th>\n      <th>$50-75k</th>\n      <th>$75-100k</th>\n      <th>$100-150k</th>\n      <th>&gt;150k</th>\n      <th>Don't know/refused</th>\n    </tr>\n  </thead>\n  <tbody>\n    <tr>\n      <th>0</th>\n      <td>Agnostic</td>\n      <td>27</td>\n      <td>34</td>\n      <td>60</td>\n      <td>81</td>\n      <td>76</td>\n      <td>137</td>\n      <td>122</td>\n      <td>109</td>\n      <td>84</td>\n      <td>96</td>\n    </tr>\n    <tr>\n      <th>1</th>\n      <td>Atheist</td>\n      <td>12</td>\n      <td>27</td>\n      <td>37</td>\n      <td>52</td>\n      <td>35</td>\n      <td>70</td>\n      <td>73</td>\n      <td>59</td>\n      <td>74</td>\n      <td>76</td>\n    </tr>\n    <tr>\n      <th>2</th>\n      <td>Buddhist</td>\n      <td>27</td>\n      <td>21</td>\n      <td>30</td>\n      <td>34</td>\n      <td>33</td>\n      <td>58</td>\n      <td>62</td>\n      <td>39</td>\n      <td>53</td>\n      <td>54</td>\n    </tr>\n    <tr>\n      <th>3</th>\n      <td>Catholic</td>\n      <td>418</td>\n      <td>617</td>\n      <td>732</td>\n      <td>670</td>\n      <td>638</td>\n      <td>1116</td>\n      <td>949</td>\n      <td>792</td>\n      <td>633</td>\n      <td>1489</td>\n    </tr>\n    <tr>\n      <th>4</th>\n      <td>Don’t know/refused</td>\n      <td>15</td>\n      <td>14</td>\n      <td>15</td>\n      <td>11</td>\n      <td>10</td>\n      <td>35</td>\n      <td>21</td>\n      <td>17</td>\n      <td>18</td>\n      <td>116</td>\n    </tr>\n    <tr>\n      <th>5</th>\n      <td>Evangelical Prot</td>\n      <td>575</td>\n      <td>869</td>\n      <td>1064</td>\n      <td>982</td>\n      <td>881</td>\n      <td>1486</td>\n      <td>949</td>\n      <td>723</td>\n      <td>414</td>\n      <td>1529</td>\n    </tr>\n    <tr>\n      <th>6</th>\n      <td>Hindu</td>\n      <td>1</td>\n      <td>9</td>\n      <td>7</td>\n      <td>9</td>\n      <td>11</td>\n      <td>34</td>\n      <td>47</td>\n      <td>48</td>\n      <td>54</td>\n      <td>37</td>\n    </tr>\n    <tr>\n      <th>7</th>\n      <td>Historically Black Prot</td>\n      <td>228</td>\n      <td>244</td>\n      <td>236</td>\n      <td>238</td>\n      <td>197</td>\n      <td>223</td>\n      <td>131</td>\n      <td>81</td>\n      <td>78</td>\n      <td>339</td>\n    </tr>\n    <tr>\n      <th>8</th>\n      <td>Jehovah's Witness</td>\n      <td>20</td>\n      <td>27</td>\n      <td>24</td>\n      <td>24</td>\n      <td>21</td>\n      <td>30</td>\n      <td>15</td>\n      <td>11</td>\n      <td>6</td>\n      <td>37</td>\n    </tr>\n    <tr>\n      <th>9</th>\n      <td>Jewish</td>\n      <td>19</td>\n      <td>19</td>\n      <td>25</td>\n      <td>25</td>\n      <td>30</td>\n      <td>95</td>\n      <td>69</td>\n      <td>87</td>\n      <td>151</td>\n      <td>162</td>\n    </tr>\n    <tr>\n      <th>10</th>\n      <td>Mainline Prot</td>\n      <td>289</td>\n      <td>495</td>\n      <td>619</td>\n      <td>655</td>\n      <td>651</td>\n      <td>1107</td>\n      <td>939</td>\n      <td>753</td>\n      <td>634</td>\n      <td>1328</td>\n    </tr>\n    <tr>\n      <th>11</th>\n      <td>Mormon</td>\n      <td>29</td>\n      <td>40</td>\n      <td>48</td>\n      <td>51</td>\n      <td>56</td>\n      <td>112</td>\n      <td>85</td>\n      <td>49</td>\n      <td>42</td>\n      <td>69</td>\n    </tr>\n    <tr>\n      <th>12</th>\n      <td>Muslim</td>\n      <td>6</td>\n      <td>7</td>\n      <td>9</td>\n      <td>10</td>\n      <td>9</td>\n      <td>23</td>\n      <td>16</td>\n      <td>8</td>\n      <td>6</td>\n      <td>22</td>\n    </tr>\n    <tr>\n      <th>13</th>\n      <td>Orthodox</td>\n      <td>13</td>\n      <td>17</td>\n      <td>23</td>\n      <td>32</td>\n      <td>32</td>\n      <td>47</td>\n      <td>38</td>\n      <td>42</td>\n      <td>46</td>\n      <td>73</td>\n    </tr>\n    <tr>\n      <th>14</th>\n      <td>Other Christian</td>\n      <td>9</td>\n      <td>7</td>\n      <td>11</td>\n      <td>13</td>\n      <td>13</td>\n      <td>14</td>\n      <td>18</td>\n      <td>14</td>\n      <td>12</td>\n      <td>18</td>\n    </tr>\n    <tr>\n      <th>15</th>\n      <td>Other Faiths</td>\n      <td>20</td>\n      <td>33</td>\n      <td>40</td>\n      <td>46</td>\n      <td>49</td>\n      <td>63</td>\n      <td>46</td>\n      <td>40</td>\n      <td>41</td>\n      <td>71</td>\n    </tr>\n    <tr>\n      <th>16</th>\n      <td>Other World Religions</td>\n      <td>5</td>\n      <td>2</td>\n      <td>3</td>\n      <td>4</td>\n      <td>2</td>\n      <td>7</td>\n      <td>3</td>\n      <td>4</td>\n      <td>4</td>\n      <td>8</td>\n    </tr>\n    <tr>\n      <th>17</th>\n      <td>Unaffiliated</td>\n      <td>217</td>\n      <td>299</td>\n      <td>374</td>\n      <td>365</td>\n      <td>341</td>\n      <td>528</td>\n      <td>407</td>\n      <td>321</td>\n      <td>258</td>\n      <td>597</td>\n    </tr>\n  </tbody>\n</table>\n</div>"
     },
     "execution_count": 197,
     "metadata": {},
     "output_type": "execute_result"
    }
   ],
   "source": [
    "df = pd.read_csv('../data/pew.csv')\n",
    "df"
   ]
  },
  {
   "cell_type": "code",
   "execution_count": 198,
   "outputs": [
    {
     "data": {
      "text/plain": "                  religion        income range  count\n0                 Agnostic               <$10k     27\n1                  Atheist               <$10k     12\n2                 Buddhist               <$10k     27\n3                 Catholic               <$10k    418\n4       Don’t know/refused               <$10k     15\n..                     ...                 ...    ...\n175               Orthodox  Don't know/refused     73\n176        Other Christian  Don't know/refused     18\n177           Other Faiths  Don't know/refused     71\n178  Other World Religions  Don't know/refused      8\n179           Unaffiliated  Don't know/refused    597\n\n[180 rows x 3 columns]",
      "text/html": "<div>\n<style scoped>\n    .dataframe tbody tr th:only-of-type {\n        vertical-align: middle;\n    }\n\n    .dataframe tbody tr th {\n        vertical-align: top;\n    }\n\n    .dataframe thead th {\n        text-align: right;\n    }\n</style>\n<table border=\"1\" class=\"dataframe\">\n  <thead>\n    <tr style=\"text-align: right;\">\n      <th></th>\n      <th>religion</th>\n      <th>income range</th>\n      <th>count</th>\n    </tr>\n  </thead>\n  <tbody>\n    <tr>\n      <th>0</th>\n      <td>Agnostic</td>\n      <td>&lt;$10k</td>\n      <td>27</td>\n    </tr>\n    <tr>\n      <th>1</th>\n      <td>Atheist</td>\n      <td>&lt;$10k</td>\n      <td>12</td>\n    </tr>\n    <tr>\n      <th>2</th>\n      <td>Buddhist</td>\n      <td>&lt;$10k</td>\n      <td>27</td>\n    </tr>\n    <tr>\n      <th>3</th>\n      <td>Catholic</td>\n      <td>&lt;$10k</td>\n      <td>418</td>\n    </tr>\n    <tr>\n      <th>4</th>\n      <td>Don’t know/refused</td>\n      <td>&lt;$10k</td>\n      <td>15</td>\n    </tr>\n    <tr>\n      <th>...</th>\n      <td>...</td>\n      <td>...</td>\n      <td>...</td>\n    </tr>\n    <tr>\n      <th>175</th>\n      <td>Orthodox</td>\n      <td>Don't know/refused</td>\n      <td>73</td>\n    </tr>\n    <tr>\n      <th>176</th>\n      <td>Other Christian</td>\n      <td>Don't know/refused</td>\n      <td>18</td>\n    </tr>\n    <tr>\n      <th>177</th>\n      <td>Other Faiths</td>\n      <td>Don't know/refused</td>\n      <td>71</td>\n    </tr>\n    <tr>\n      <th>178</th>\n      <td>Other World Religions</td>\n      <td>Don't know/refused</td>\n      <td>8</td>\n    </tr>\n    <tr>\n      <th>179</th>\n      <td>Unaffiliated</td>\n      <td>Don't know/refused</td>\n      <td>597</td>\n    </tr>\n  </tbody>\n</table>\n<p>180 rows × 3 columns</p>\n</div>"
     },
     "execution_count": 198,
     "metadata": {},
     "output_type": "execute_result"
    }
   ],
   "source": [
    "tidy_df = df.melt(id_vars=['religion'], var_name='income range', value_name='count')\n",
    "tidy_df"
   ],
   "metadata": {
    "collapsed": false,
    "pycharm": {
     "name": "#%%\n"
    }
   }
  },
  {
   "cell_type": "code",
   "execution_count": 199,
   "outputs": [
    {
     "data": {
      "text/plain": "<bound method DataFrame.info of                   religion        income range  count\n0                 Agnostic               <$10k     27\n1                  Atheist               <$10k     12\n2                 Buddhist               <$10k     27\n3                 Catholic               <$10k    418\n4       Don’t know/refused               <$10k     15\n..                     ...                 ...    ...\n175               Orthodox  Don't know/refused     73\n176        Other Christian  Don't know/refused     18\n177           Other Faiths  Don't know/refused     71\n178  Other World Religions  Don't know/refused      8\n179           Unaffiliated  Don't know/refused    597\n\n[180 rows x 3 columns]>"
     },
     "execution_count": 199,
     "metadata": {},
     "output_type": "execute_result"
    }
   ],
   "source": [
    "tidy_df.info"
   ],
   "metadata": {
    "collapsed": false,
    "pycharm": {
     "name": "#%%\n"
    }
   }
  },
  {
   "cell_type": "code",
   "execution_count": 199,
   "outputs": [],
   "source": [],
   "metadata": {
    "collapsed": false,
    "pycharm": {
     "name": "#%%\n"
    }
   }
  },
  {
   "cell_type": "markdown",
   "source": [
    "2. 使用 `` 函数处理 NaN 等空数据"
   ],
   "metadata": {
    "collapsed": false,
    "pycharm": {
     "name": "#%% md\n"
    }
   }
  },
  {
   "cell_type": "code",
   "execution_count": 200,
   "outputs": [
    {
     "data": {
      "text/plain": "           Date  Day  Cases_Guinea  Cases_Liberia  Cases_SierraLeone  \\\n0      1/5/2015  289        2776.0            NaN            10030.0   \n1      1/4/2015  288        2775.0            NaN             9780.0   \n2      1/3/2015  287        2769.0         8166.0             9722.0   \n3      1/2/2015  286           NaN         8157.0                NaN   \n4    12/31/2014  284        2730.0         8115.0             9633.0   \n..          ...  ...           ...            ...                ...   \n117   3/27/2014    5         103.0            8.0                6.0   \n118   3/26/2014    4          86.0            NaN                NaN   \n119   3/25/2014    3          86.0            NaN                NaN   \n120   3/24/2014    2          86.0            NaN                NaN   \n121   3/22/2014    0          49.0            NaN                NaN   \n\n     Cases_Nigeria  Cases_Senegal  Cases_UnitedStates  Cases_Spain  \\\n0              NaN            NaN                 NaN          NaN   \n1              NaN            NaN                 NaN          NaN   \n2              NaN            NaN                 NaN          NaN   \n3              NaN            NaN                 NaN          NaN   \n4              NaN            NaN                 NaN          NaN   \n..             ...            ...                 ...          ...   \n117            NaN            NaN                 NaN          NaN   \n118            NaN            NaN                 NaN          NaN   \n119            NaN            NaN                 NaN          NaN   \n120            NaN            NaN                 NaN          NaN   \n121            NaN            NaN                 NaN          NaN   \n\n     Cases_Mali  Deaths_Guinea  Deaths_Liberia  Deaths_SierraLeone  \\\n0           NaN         1786.0             NaN              2977.0   \n1           NaN         1781.0             NaN              2943.0   \n2           NaN         1767.0          3496.0              2915.0   \n3           NaN            NaN          3496.0                 NaN   \n4           NaN         1739.0          3471.0              2827.0   \n..          ...            ...             ...                 ...   \n117         NaN           66.0             6.0                 5.0   \n118         NaN           62.0             NaN                 NaN   \n119         NaN           60.0             NaN                 NaN   \n120         NaN           59.0             NaN                 NaN   \n121         NaN           29.0             NaN                 NaN   \n\n     Deaths_Nigeria  Deaths_Senegal  Deaths_UnitedStates  Deaths_Spain  \\\n0               NaN             NaN                  NaN           NaN   \n1               NaN             NaN                  NaN           NaN   \n2               NaN             NaN                  NaN           NaN   \n3               NaN             NaN                  NaN           NaN   \n4               NaN             NaN                  NaN           NaN   \n..              ...             ...                  ...           ...   \n117             NaN             NaN                  NaN           NaN   \n118             NaN             NaN                  NaN           NaN   \n119             NaN             NaN                  NaN           NaN   \n120             NaN             NaN                  NaN           NaN   \n121             NaN             NaN                  NaN           NaN   \n\n     Deaths_Mali  \n0            NaN  \n1            NaN  \n2            NaN  \n3            NaN  \n4            NaN  \n..           ...  \n117          NaN  \n118          NaN  \n119          NaN  \n120          NaN  \n121          NaN  \n\n[122 rows x 18 columns]",
      "text/html": "<div>\n<style scoped>\n    .dataframe tbody tr th:only-of-type {\n        vertical-align: middle;\n    }\n\n    .dataframe tbody tr th {\n        vertical-align: top;\n    }\n\n    .dataframe thead th {\n        text-align: right;\n    }\n</style>\n<table border=\"1\" class=\"dataframe\">\n  <thead>\n    <tr style=\"text-align: right;\">\n      <th></th>\n      <th>Date</th>\n      <th>Day</th>\n      <th>Cases_Guinea</th>\n      <th>Cases_Liberia</th>\n      <th>Cases_SierraLeone</th>\n      <th>Cases_Nigeria</th>\n      <th>Cases_Senegal</th>\n      <th>Cases_UnitedStates</th>\n      <th>Cases_Spain</th>\n      <th>Cases_Mali</th>\n      <th>Deaths_Guinea</th>\n      <th>Deaths_Liberia</th>\n      <th>Deaths_SierraLeone</th>\n      <th>Deaths_Nigeria</th>\n      <th>Deaths_Senegal</th>\n      <th>Deaths_UnitedStates</th>\n      <th>Deaths_Spain</th>\n      <th>Deaths_Mali</th>\n    </tr>\n  </thead>\n  <tbody>\n    <tr>\n      <th>0</th>\n      <td>1/5/2015</td>\n      <td>289</td>\n      <td>2776.0</td>\n      <td>NaN</td>\n      <td>10030.0</td>\n      <td>NaN</td>\n      <td>NaN</td>\n      <td>NaN</td>\n      <td>NaN</td>\n      <td>NaN</td>\n      <td>1786.0</td>\n      <td>NaN</td>\n      <td>2977.0</td>\n      <td>NaN</td>\n      <td>NaN</td>\n      <td>NaN</td>\n      <td>NaN</td>\n      <td>NaN</td>\n    </tr>\n    <tr>\n      <th>1</th>\n      <td>1/4/2015</td>\n      <td>288</td>\n      <td>2775.0</td>\n      <td>NaN</td>\n      <td>9780.0</td>\n      <td>NaN</td>\n      <td>NaN</td>\n      <td>NaN</td>\n      <td>NaN</td>\n      <td>NaN</td>\n      <td>1781.0</td>\n      <td>NaN</td>\n      <td>2943.0</td>\n      <td>NaN</td>\n      <td>NaN</td>\n      <td>NaN</td>\n      <td>NaN</td>\n      <td>NaN</td>\n    </tr>\n    <tr>\n      <th>2</th>\n      <td>1/3/2015</td>\n      <td>287</td>\n      <td>2769.0</td>\n      <td>8166.0</td>\n      <td>9722.0</td>\n      <td>NaN</td>\n      <td>NaN</td>\n      <td>NaN</td>\n      <td>NaN</td>\n      <td>NaN</td>\n      <td>1767.0</td>\n      <td>3496.0</td>\n      <td>2915.0</td>\n      <td>NaN</td>\n      <td>NaN</td>\n      <td>NaN</td>\n      <td>NaN</td>\n      <td>NaN</td>\n    </tr>\n    <tr>\n      <th>3</th>\n      <td>1/2/2015</td>\n      <td>286</td>\n      <td>NaN</td>\n      <td>8157.0</td>\n      <td>NaN</td>\n      <td>NaN</td>\n      <td>NaN</td>\n      <td>NaN</td>\n      <td>NaN</td>\n      <td>NaN</td>\n      <td>NaN</td>\n      <td>3496.0</td>\n      <td>NaN</td>\n      <td>NaN</td>\n      <td>NaN</td>\n      <td>NaN</td>\n      <td>NaN</td>\n      <td>NaN</td>\n    </tr>\n    <tr>\n      <th>4</th>\n      <td>12/31/2014</td>\n      <td>284</td>\n      <td>2730.0</td>\n      <td>8115.0</td>\n      <td>9633.0</td>\n      <td>NaN</td>\n      <td>NaN</td>\n      <td>NaN</td>\n      <td>NaN</td>\n      <td>NaN</td>\n      <td>1739.0</td>\n      <td>3471.0</td>\n      <td>2827.0</td>\n      <td>NaN</td>\n      <td>NaN</td>\n      <td>NaN</td>\n      <td>NaN</td>\n      <td>NaN</td>\n    </tr>\n    <tr>\n      <th>...</th>\n      <td>...</td>\n      <td>...</td>\n      <td>...</td>\n      <td>...</td>\n      <td>...</td>\n      <td>...</td>\n      <td>...</td>\n      <td>...</td>\n      <td>...</td>\n      <td>...</td>\n      <td>...</td>\n      <td>...</td>\n      <td>...</td>\n      <td>...</td>\n      <td>...</td>\n      <td>...</td>\n      <td>...</td>\n      <td>...</td>\n    </tr>\n    <tr>\n      <th>117</th>\n      <td>3/27/2014</td>\n      <td>5</td>\n      <td>103.0</td>\n      <td>8.0</td>\n      <td>6.0</td>\n      <td>NaN</td>\n      <td>NaN</td>\n      <td>NaN</td>\n      <td>NaN</td>\n      <td>NaN</td>\n      <td>66.0</td>\n      <td>6.0</td>\n      <td>5.0</td>\n      <td>NaN</td>\n      <td>NaN</td>\n      <td>NaN</td>\n      <td>NaN</td>\n      <td>NaN</td>\n    </tr>\n    <tr>\n      <th>118</th>\n      <td>3/26/2014</td>\n      <td>4</td>\n      <td>86.0</td>\n      <td>NaN</td>\n      <td>NaN</td>\n      <td>NaN</td>\n      <td>NaN</td>\n      <td>NaN</td>\n      <td>NaN</td>\n      <td>NaN</td>\n      <td>62.0</td>\n      <td>NaN</td>\n      <td>NaN</td>\n      <td>NaN</td>\n      <td>NaN</td>\n      <td>NaN</td>\n      <td>NaN</td>\n      <td>NaN</td>\n    </tr>\n    <tr>\n      <th>119</th>\n      <td>3/25/2014</td>\n      <td>3</td>\n      <td>86.0</td>\n      <td>NaN</td>\n      <td>NaN</td>\n      <td>NaN</td>\n      <td>NaN</td>\n      <td>NaN</td>\n      <td>NaN</td>\n      <td>NaN</td>\n      <td>60.0</td>\n      <td>NaN</td>\n      <td>NaN</td>\n      <td>NaN</td>\n      <td>NaN</td>\n      <td>NaN</td>\n      <td>NaN</td>\n      <td>NaN</td>\n    </tr>\n    <tr>\n      <th>120</th>\n      <td>3/24/2014</td>\n      <td>2</td>\n      <td>86.0</td>\n      <td>NaN</td>\n      <td>NaN</td>\n      <td>NaN</td>\n      <td>NaN</td>\n      <td>NaN</td>\n      <td>NaN</td>\n      <td>NaN</td>\n      <td>59.0</td>\n      <td>NaN</td>\n      <td>NaN</td>\n      <td>NaN</td>\n      <td>NaN</td>\n      <td>NaN</td>\n      <td>NaN</td>\n      <td>NaN</td>\n    </tr>\n    <tr>\n      <th>121</th>\n      <td>3/22/2014</td>\n      <td>0</td>\n      <td>49.0</td>\n      <td>NaN</td>\n      <td>NaN</td>\n      <td>NaN</td>\n      <td>NaN</td>\n      <td>NaN</td>\n      <td>NaN</td>\n      <td>NaN</td>\n      <td>29.0</td>\n      <td>NaN</td>\n      <td>NaN</td>\n      <td>NaN</td>\n      <td>NaN</td>\n      <td>NaN</td>\n      <td>NaN</td>\n      <td>NaN</td>\n    </tr>\n  </tbody>\n</table>\n<p>122 rows × 18 columns</p>\n</div>"
     },
     "execution_count": 200,
     "metadata": {},
     "output_type": "execute_result"
    }
   ],
   "source": [
    "ebola = pd.read_csv('../data/country_timeseries.csv')\n",
    "ebola"
   ],
   "metadata": {
    "collapsed": false,
    "pycharm": {
     "name": "#%%\n"
    }
   }
  },
  {
   "cell_type": "code",
   "execution_count": 201,
   "outputs": [
    {
     "data": {
      "text/plain": "            Date  Day       Country  Case Value\n0       1/5/2015  289  Cases_Guinea      2776.0\n1       1/4/2015  288  Cases_Guinea      2775.0\n2       1/3/2015  287  Cases_Guinea      2769.0\n3       1/2/2015  286  Cases_Guinea         NaN\n4     12/31/2014  284  Cases_Guinea      2730.0\n...          ...  ...           ...         ...\n1947   3/27/2014    5   Deaths_Mali         NaN\n1948   3/26/2014    4   Deaths_Mali         NaN\n1949   3/25/2014    3   Deaths_Mali         NaN\n1950   3/24/2014    2   Deaths_Mali         NaN\n1951   3/22/2014    0   Deaths_Mali         NaN\n\n[1952 rows x 4 columns]",
      "text/html": "<div>\n<style scoped>\n    .dataframe tbody tr th:only-of-type {\n        vertical-align: middle;\n    }\n\n    .dataframe tbody tr th {\n        vertical-align: top;\n    }\n\n    .dataframe thead th {\n        text-align: right;\n    }\n</style>\n<table border=\"1\" class=\"dataframe\">\n  <thead>\n    <tr style=\"text-align: right;\">\n      <th></th>\n      <th>Date</th>\n      <th>Day</th>\n      <th>Country</th>\n      <th>Case Value</th>\n    </tr>\n  </thead>\n  <tbody>\n    <tr>\n      <th>0</th>\n      <td>1/5/2015</td>\n      <td>289</td>\n      <td>Cases_Guinea</td>\n      <td>2776.0</td>\n    </tr>\n    <tr>\n      <th>1</th>\n      <td>1/4/2015</td>\n      <td>288</td>\n      <td>Cases_Guinea</td>\n      <td>2775.0</td>\n    </tr>\n    <tr>\n      <th>2</th>\n      <td>1/3/2015</td>\n      <td>287</td>\n      <td>Cases_Guinea</td>\n      <td>2769.0</td>\n    </tr>\n    <tr>\n      <th>3</th>\n      <td>1/2/2015</td>\n      <td>286</td>\n      <td>Cases_Guinea</td>\n      <td>NaN</td>\n    </tr>\n    <tr>\n      <th>4</th>\n      <td>12/31/2014</td>\n      <td>284</td>\n      <td>Cases_Guinea</td>\n      <td>2730.0</td>\n    </tr>\n    <tr>\n      <th>...</th>\n      <td>...</td>\n      <td>...</td>\n      <td>...</td>\n      <td>...</td>\n    </tr>\n    <tr>\n      <th>1947</th>\n      <td>3/27/2014</td>\n      <td>5</td>\n      <td>Deaths_Mali</td>\n      <td>NaN</td>\n    </tr>\n    <tr>\n      <th>1948</th>\n      <td>3/26/2014</td>\n      <td>4</td>\n      <td>Deaths_Mali</td>\n      <td>NaN</td>\n    </tr>\n    <tr>\n      <th>1949</th>\n      <td>3/25/2014</td>\n      <td>3</td>\n      <td>Deaths_Mali</td>\n      <td>NaN</td>\n    </tr>\n    <tr>\n      <th>1950</th>\n      <td>3/24/2014</td>\n      <td>2</td>\n      <td>Deaths_Mali</td>\n      <td>NaN</td>\n    </tr>\n    <tr>\n      <th>1951</th>\n      <td>3/22/2014</td>\n      <td>0</td>\n      <td>Deaths_Mali</td>\n      <td>NaN</td>\n    </tr>\n  </tbody>\n</table>\n<p>1952 rows × 4 columns</p>\n</div>"
     },
     "execution_count": 201,
     "metadata": {},
     "output_type": "execute_result"
    }
   ],
   "source": [
    "ebola_melt = ebola.melt(id_vars=['Date', 'Day'],\n",
    "                        var_name='Country',\n",
    "                        value_name='Case Value')\n",
    "ebola_melt"
   ],
   "metadata": {
    "collapsed": false,
    "pycharm": {
     "name": "#%%\n"
    }
   }
  },
  {
   "cell_type": "code",
   "execution_count": 202,
   "outputs": [
    {
     "data": {
      "text/plain": "0       [Cases, Guinea]\n1       [Cases, Guinea]\n2       [Cases, Guinea]\n3       [Cases, Guinea]\n4       [Cases, Guinea]\n             ...       \n1947     [Deaths, Mali]\n1948     [Deaths, Mali]\n1949     [Deaths, Mali]\n1950     [Deaths, Mali]\n1951     [Deaths, Mali]\nName: Country, Length: 1952, dtype: object"
     },
     "execution_count": 202,
     "metadata": {},
     "output_type": "execute_result"
    }
   ],
   "source": [
    "ebola_melt['Country'].str.split('_')"
   ],
   "metadata": {
    "collapsed": false,
    "pycharm": {
     "name": "#%%\n"
    }
   }
  },
  {
   "cell_type": "code",
   "execution_count": 220,
   "outputs": [
    {
     "data": {
      "text/plain": "pandas.core.frame.DataFrame"
     },
     "execution_count": 220,
     "metadata": {},
     "output_type": "execute_result"
    }
   ],
   "source": [
    "type(ebola_melt['Country'].str.split('_', expand=True))"
   ],
   "metadata": {
    "collapsed": false,
    "pycharm": {
     "name": "#%%\n"
    }
   }
  },
  {
   "cell_type": "code",
   "execution_count": 229,
   "outputs": [
    {
     "data": {
      "text/plain": "0        Cases\n1        Cases\n2        Cases\n3        Cases\n4        Cases\n         ...  \n1947    Deaths\n1948    Deaths\n1949    Deaths\n1950    Deaths\n1951    Deaths\nName: Country, Length: 1952, dtype: object"
     },
     "execution_count": 229,
     "metadata": {},
     "output_type": "execute_result"
    }
   ],
   "source": [
    "((ebola_melt['Country'].str.split('_')).str[0])"
   ],
   "metadata": {
    "collapsed": false,
    "pycharm": {
     "name": "#%%\n"
    }
   }
  },
  {
   "cell_type": "code",
   "execution_count": 205,
   "outputs": [
    {
     "name": "stdout",
     "output_type": "stream",
     "text": [
      "0       Cases_Guinea\n",
      "1       Cases_Guinea\n",
      "2       Cases_Guinea\n",
      "3       Cases_Guinea\n",
      "4       Cases_Guinea\n",
      "            ...     \n",
      "1947     Deaths_Mali\n",
      "1948     Deaths_Mali\n",
      "1949     Deaths_Mali\n",
      "1950     Deaths_Mali\n",
      "1951     Deaths_Mali\n",
      "Name: Country, Length: 1952, dtype: object\n"
     ]
    }
   ],
   "source": [
    "print(ebola_melt['Country'])"
   ],
   "metadata": {
    "collapsed": false,
    "pycharm": {
     "name": "#%%\n"
    }
   }
  },
  {
   "cell_type": "code",
   "execution_count": 206,
   "outputs": [
    {
     "name": "stdout",
     "output_type": "stream",
     "text": [
      "0       Cases_Guinea\n",
      "1       Cases_Guinea\n",
      "2       Cases_Guinea\n",
      "3       Cases_Guinea\n",
      "4       Cases_Guinea\n",
      "            ...     \n",
      "1947     Deaths_Mali\n",
      "1948     Deaths_Mali\n",
      "1949     Deaths_Mali\n",
      "1950     Deaths_Mali\n",
      "1951     Deaths_Mali\n",
      "Name: Country, Length: 1952, dtype: object\n"
     ]
    }
   ],
   "source": [
    "print(ebola_melt['Country'])"
   ],
   "metadata": {
    "collapsed": false,
    "pycharm": {
     "name": "#%%\n"
    }
   }
  },
  {
   "cell_type": "code",
   "execution_count": 207,
   "outputs": [
    {
     "data": {
      "text/plain": "['Cases_Guinea',\n 'Cases_Guinea',\n 'Cases_Guinea',\n 'Cases_Guinea',\n 'Cases_Guinea',\n 'Cases_Guinea',\n 'Cases_Guinea',\n 'Cases_Guinea',\n 'Cases_Guinea',\n 'Cases_Guinea',\n 'Cases_Guinea',\n 'Cases_Guinea',\n 'Cases_Guinea',\n 'Cases_Guinea',\n 'Cases_Guinea',\n 'Cases_Guinea',\n 'Cases_Guinea',\n 'Cases_Guinea',\n 'Cases_Guinea',\n 'Cases_Guinea',\n 'Cases_Guinea',\n 'Cases_Guinea',\n 'Cases_Guinea',\n 'Cases_Guinea',\n 'Cases_Guinea',\n 'Cases_Guinea',\n 'Cases_Guinea',\n 'Cases_Guinea',\n 'Cases_Guinea',\n 'Cases_Guinea',\n 'Cases_Guinea',\n 'Cases_Guinea',\n 'Cases_Guinea',\n 'Cases_Guinea',\n 'Cases_Guinea',\n 'Cases_Guinea',\n 'Cases_Guinea',\n 'Cases_Guinea',\n 'Cases_Guinea',\n 'Cases_Guinea',\n 'Cases_Guinea',\n 'Cases_Guinea',\n 'Cases_Guinea',\n 'Cases_Guinea',\n 'Cases_Guinea',\n 'Cases_Guinea',\n 'Cases_Guinea',\n 'Cases_Guinea',\n 'Cases_Guinea',\n 'Cases_Guinea',\n 'Cases_Guinea',\n 'Cases_Guinea',\n 'Cases_Guinea',\n 'Cases_Guinea',\n 'Cases_Guinea',\n 'Cases_Guinea',\n 'Cases_Guinea',\n 'Cases_Guinea',\n 'Cases_Guinea',\n 'Cases_Guinea',\n 'Cases_Guinea',\n 'Cases_Guinea',\n 'Cases_Guinea',\n 'Cases_Guinea',\n 'Cases_Guinea',\n 'Cases_Guinea',\n 'Cases_Guinea',\n 'Cases_Guinea',\n 'Cases_Guinea',\n 'Cases_Guinea',\n 'Cases_Guinea',\n 'Cases_Guinea',\n 'Cases_Guinea',\n 'Cases_Guinea',\n 'Cases_Guinea',\n 'Cases_Guinea',\n 'Cases_Guinea',\n 'Cases_Guinea',\n 'Cases_Guinea',\n 'Cases_Guinea',\n 'Cases_Guinea',\n 'Cases_Guinea',\n 'Cases_Guinea',\n 'Cases_Guinea',\n 'Cases_Guinea',\n 'Cases_Guinea',\n 'Cases_Guinea',\n 'Cases_Guinea',\n 'Cases_Guinea',\n 'Cases_Guinea',\n 'Cases_Guinea',\n 'Cases_Guinea',\n 'Cases_Guinea',\n 'Cases_Guinea',\n 'Cases_Guinea',\n 'Cases_Guinea',\n 'Cases_Guinea',\n 'Cases_Guinea',\n 'Cases_Guinea',\n 'Cases_Guinea',\n 'Cases_Guinea',\n 'Cases_Guinea',\n 'Cases_Guinea',\n 'Cases_Guinea',\n 'Cases_Guinea',\n 'Cases_Guinea',\n 'Cases_Guinea',\n 'Cases_Guinea',\n 'Cases_Guinea',\n 'Cases_Guinea',\n 'Cases_Guinea',\n 'Cases_Guinea',\n 'Cases_Guinea',\n 'Cases_Guinea',\n 'Cases_Guinea',\n 'Cases_Guinea',\n 'Cases_Guinea',\n 'Cases_Guinea',\n 'Cases_Guinea',\n 'Cases_Guinea',\n 'Cases_Guinea',\n 'Cases_Guinea',\n 'Cases_Liberia',\n 'Cases_Liberia',\n 'Cases_Liberia',\n 'Cases_Liberia',\n 'Cases_Liberia',\n 'Cases_Liberia',\n 'Cases_Liberia',\n 'Cases_Liberia',\n 'Cases_Liberia',\n 'Cases_Liberia',\n 'Cases_Liberia',\n 'Cases_Liberia',\n 'Cases_Liberia',\n 'Cases_Liberia',\n 'Cases_Liberia',\n 'Cases_Liberia',\n 'Cases_Liberia',\n 'Cases_Liberia',\n 'Cases_Liberia',\n 'Cases_Liberia',\n 'Cases_Liberia',\n 'Cases_Liberia',\n 'Cases_Liberia',\n 'Cases_Liberia',\n 'Cases_Liberia',\n 'Cases_Liberia',\n 'Cases_Liberia',\n 'Cases_Liberia',\n 'Cases_Liberia',\n 'Cases_Liberia',\n 'Cases_Liberia',\n 'Cases_Liberia',\n 'Cases_Liberia',\n 'Cases_Liberia',\n 'Cases_Liberia',\n 'Cases_Liberia',\n 'Cases_Liberia',\n 'Cases_Liberia',\n 'Cases_Liberia',\n 'Cases_Liberia',\n 'Cases_Liberia',\n 'Cases_Liberia',\n 'Cases_Liberia',\n 'Cases_Liberia',\n 'Cases_Liberia',\n 'Cases_Liberia',\n 'Cases_Liberia',\n 'Cases_Liberia',\n 'Cases_Liberia',\n 'Cases_Liberia',\n 'Cases_Liberia',\n 'Cases_Liberia',\n 'Cases_Liberia',\n 'Cases_Liberia',\n 'Cases_Liberia',\n 'Cases_Liberia',\n 'Cases_Liberia',\n 'Cases_Liberia',\n 'Cases_Liberia',\n 'Cases_Liberia',\n 'Cases_Liberia',\n 'Cases_Liberia',\n 'Cases_Liberia',\n 'Cases_Liberia',\n 'Cases_Liberia',\n 'Cases_Liberia',\n 'Cases_Liberia',\n 'Cases_Liberia',\n 'Cases_Liberia',\n 'Cases_Liberia',\n 'Cases_Liberia',\n 'Cases_Liberia',\n 'Cases_Liberia',\n 'Cases_Liberia',\n 'Cases_Liberia',\n 'Cases_Liberia',\n 'Cases_Liberia',\n 'Cases_Liberia',\n 'Cases_Liberia',\n 'Cases_Liberia',\n 'Cases_Liberia',\n 'Cases_Liberia',\n 'Cases_Liberia',\n 'Cases_Liberia',\n 'Cases_Liberia',\n 'Cases_Liberia',\n 'Cases_Liberia',\n 'Cases_Liberia',\n 'Cases_Liberia',\n 'Cases_Liberia',\n 'Cases_Liberia',\n 'Cases_Liberia',\n 'Cases_Liberia',\n 'Cases_Liberia',\n 'Cases_Liberia',\n 'Cases_Liberia',\n 'Cases_Liberia',\n 'Cases_Liberia',\n 'Cases_Liberia',\n 'Cases_Liberia',\n 'Cases_Liberia',\n 'Cases_Liberia',\n 'Cases_Liberia',\n 'Cases_Liberia',\n 'Cases_Liberia',\n 'Cases_Liberia',\n 'Cases_Liberia',\n 'Cases_Liberia',\n 'Cases_Liberia',\n 'Cases_Liberia',\n 'Cases_Liberia',\n 'Cases_Liberia',\n 'Cases_Liberia',\n 'Cases_Liberia',\n 'Cases_Liberia',\n 'Cases_Liberia',\n 'Cases_Liberia',\n 'Cases_Liberia',\n 'Cases_Liberia',\n 'Cases_Liberia',\n 'Cases_Liberia',\n 'Cases_Liberia',\n 'Cases_SierraLeone',\n 'Cases_SierraLeone',\n 'Cases_SierraLeone',\n 'Cases_SierraLeone',\n 'Cases_SierraLeone',\n 'Cases_SierraLeone',\n 'Cases_SierraLeone',\n 'Cases_SierraLeone',\n 'Cases_SierraLeone',\n 'Cases_SierraLeone',\n 'Cases_SierraLeone',\n 'Cases_SierraLeone',\n 'Cases_SierraLeone',\n 'Cases_SierraLeone',\n 'Cases_SierraLeone',\n 'Cases_SierraLeone',\n 'Cases_SierraLeone',\n 'Cases_SierraLeone',\n 'Cases_SierraLeone',\n 'Cases_SierraLeone',\n 'Cases_SierraLeone',\n 'Cases_SierraLeone',\n 'Cases_SierraLeone',\n 'Cases_SierraLeone',\n 'Cases_SierraLeone',\n 'Cases_SierraLeone',\n 'Cases_SierraLeone',\n 'Cases_SierraLeone',\n 'Cases_SierraLeone',\n 'Cases_SierraLeone',\n 'Cases_SierraLeone',\n 'Cases_SierraLeone',\n 'Cases_SierraLeone',\n 'Cases_SierraLeone',\n 'Cases_SierraLeone',\n 'Cases_SierraLeone',\n 'Cases_SierraLeone',\n 'Cases_SierraLeone',\n 'Cases_SierraLeone',\n 'Cases_SierraLeone',\n 'Cases_SierraLeone',\n 'Cases_SierraLeone',\n 'Cases_SierraLeone',\n 'Cases_SierraLeone',\n 'Cases_SierraLeone',\n 'Cases_SierraLeone',\n 'Cases_SierraLeone',\n 'Cases_SierraLeone',\n 'Cases_SierraLeone',\n 'Cases_SierraLeone',\n 'Cases_SierraLeone',\n 'Cases_SierraLeone',\n 'Cases_SierraLeone',\n 'Cases_SierraLeone',\n 'Cases_SierraLeone',\n 'Cases_SierraLeone',\n 'Cases_SierraLeone',\n 'Cases_SierraLeone',\n 'Cases_SierraLeone',\n 'Cases_SierraLeone',\n 'Cases_SierraLeone',\n 'Cases_SierraLeone',\n 'Cases_SierraLeone',\n 'Cases_SierraLeone',\n 'Cases_SierraLeone',\n 'Cases_SierraLeone',\n 'Cases_SierraLeone',\n 'Cases_SierraLeone',\n 'Cases_SierraLeone',\n 'Cases_SierraLeone',\n 'Cases_SierraLeone',\n 'Cases_SierraLeone',\n 'Cases_SierraLeone',\n 'Cases_SierraLeone',\n 'Cases_SierraLeone',\n 'Cases_SierraLeone',\n 'Cases_SierraLeone',\n 'Cases_SierraLeone',\n 'Cases_SierraLeone',\n 'Cases_SierraLeone',\n 'Cases_SierraLeone',\n 'Cases_SierraLeone',\n 'Cases_SierraLeone',\n 'Cases_SierraLeone',\n 'Cases_SierraLeone',\n 'Cases_SierraLeone',\n 'Cases_SierraLeone',\n 'Cases_SierraLeone',\n 'Cases_SierraLeone',\n 'Cases_SierraLeone',\n 'Cases_SierraLeone',\n 'Cases_SierraLeone',\n 'Cases_SierraLeone',\n 'Cases_SierraLeone',\n 'Cases_SierraLeone',\n 'Cases_SierraLeone',\n 'Cases_SierraLeone',\n 'Cases_SierraLeone',\n 'Cases_SierraLeone',\n 'Cases_SierraLeone',\n 'Cases_SierraLeone',\n 'Cases_SierraLeone',\n 'Cases_SierraLeone',\n 'Cases_SierraLeone',\n 'Cases_SierraLeone',\n 'Cases_SierraLeone',\n 'Cases_SierraLeone',\n 'Cases_SierraLeone',\n 'Cases_SierraLeone',\n 'Cases_SierraLeone',\n 'Cases_SierraLeone',\n 'Cases_SierraLeone',\n 'Cases_SierraLeone',\n 'Cases_SierraLeone',\n 'Cases_SierraLeone',\n 'Cases_SierraLeone',\n 'Cases_SierraLeone',\n 'Cases_SierraLeone',\n 'Cases_SierraLeone',\n 'Cases_SierraLeone',\n 'Cases_SierraLeone',\n 'Cases_SierraLeone',\n 'Cases_Nigeria',\n 'Cases_Nigeria',\n 'Cases_Nigeria',\n 'Cases_Nigeria',\n 'Cases_Nigeria',\n 'Cases_Nigeria',\n 'Cases_Nigeria',\n 'Cases_Nigeria',\n 'Cases_Nigeria',\n 'Cases_Nigeria',\n 'Cases_Nigeria',\n 'Cases_Nigeria',\n 'Cases_Nigeria',\n 'Cases_Nigeria',\n 'Cases_Nigeria',\n 'Cases_Nigeria',\n 'Cases_Nigeria',\n 'Cases_Nigeria',\n 'Cases_Nigeria',\n 'Cases_Nigeria',\n 'Cases_Nigeria',\n 'Cases_Nigeria',\n 'Cases_Nigeria',\n 'Cases_Nigeria',\n 'Cases_Nigeria',\n 'Cases_Nigeria',\n 'Cases_Nigeria',\n 'Cases_Nigeria',\n 'Cases_Nigeria',\n 'Cases_Nigeria',\n 'Cases_Nigeria',\n 'Cases_Nigeria',\n 'Cases_Nigeria',\n 'Cases_Nigeria',\n 'Cases_Nigeria',\n 'Cases_Nigeria',\n 'Cases_Nigeria',\n 'Cases_Nigeria',\n 'Cases_Nigeria',\n 'Cases_Nigeria',\n 'Cases_Nigeria',\n 'Cases_Nigeria',\n 'Cases_Nigeria',\n 'Cases_Nigeria',\n 'Cases_Nigeria',\n 'Cases_Nigeria',\n 'Cases_Nigeria',\n 'Cases_Nigeria',\n 'Cases_Nigeria',\n 'Cases_Nigeria',\n 'Cases_Nigeria',\n 'Cases_Nigeria',\n 'Cases_Nigeria',\n 'Cases_Nigeria',\n 'Cases_Nigeria',\n 'Cases_Nigeria',\n 'Cases_Nigeria',\n 'Cases_Nigeria',\n 'Cases_Nigeria',\n 'Cases_Nigeria',\n 'Cases_Nigeria',\n 'Cases_Nigeria',\n 'Cases_Nigeria',\n 'Cases_Nigeria',\n 'Cases_Nigeria',\n 'Cases_Nigeria',\n 'Cases_Nigeria',\n 'Cases_Nigeria',\n 'Cases_Nigeria',\n 'Cases_Nigeria',\n 'Cases_Nigeria',\n 'Cases_Nigeria',\n 'Cases_Nigeria',\n 'Cases_Nigeria',\n 'Cases_Nigeria',\n 'Cases_Nigeria',\n 'Cases_Nigeria',\n 'Cases_Nigeria',\n 'Cases_Nigeria',\n 'Cases_Nigeria',\n 'Cases_Nigeria',\n 'Cases_Nigeria',\n 'Cases_Nigeria',\n 'Cases_Nigeria',\n 'Cases_Nigeria',\n 'Cases_Nigeria',\n 'Cases_Nigeria',\n 'Cases_Nigeria',\n 'Cases_Nigeria',\n 'Cases_Nigeria',\n 'Cases_Nigeria',\n 'Cases_Nigeria',\n 'Cases_Nigeria',\n 'Cases_Nigeria',\n 'Cases_Nigeria',\n 'Cases_Nigeria',\n 'Cases_Nigeria',\n 'Cases_Nigeria',\n 'Cases_Nigeria',\n 'Cases_Nigeria',\n 'Cases_Nigeria',\n 'Cases_Nigeria',\n 'Cases_Nigeria',\n 'Cases_Nigeria',\n 'Cases_Nigeria',\n 'Cases_Nigeria',\n 'Cases_Nigeria',\n 'Cases_Nigeria',\n 'Cases_Nigeria',\n 'Cases_Nigeria',\n 'Cases_Nigeria',\n 'Cases_Nigeria',\n 'Cases_Nigeria',\n 'Cases_Nigeria',\n 'Cases_Nigeria',\n 'Cases_Nigeria',\n 'Cases_Nigeria',\n 'Cases_Nigeria',\n 'Cases_Nigeria',\n 'Cases_Nigeria',\n 'Cases_Nigeria',\n 'Cases_Nigeria',\n 'Cases_Senegal',\n 'Cases_Senegal',\n 'Cases_Senegal',\n 'Cases_Senegal',\n 'Cases_Senegal',\n 'Cases_Senegal',\n 'Cases_Senegal',\n 'Cases_Senegal',\n 'Cases_Senegal',\n 'Cases_Senegal',\n 'Cases_Senegal',\n 'Cases_Senegal',\n 'Cases_Senegal',\n 'Cases_Senegal',\n 'Cases_Senegal',\n 'Cases_Senegal',\n 'Cases_Senegal',\n 'Cases_Senegal',\n 'Cases_Senegal',\n 'Cases_Senegal',\n 'Cases_Senegal',\n 'Cases_Senegal',\n 'Cases_Senegal',\n 'Cases_Senegal',\n 'Cases_Senegal',\n 'Cases_Senegal',\n 'Cases_Senegal',\n 'Cases_Senegal',\n 'Cases_Senegal',\n 'Cases_Senegal',\n 'Cases_Senegal',\n 'Cases_Senegal',\n 'Cases_Senegal',\n 'Cases_Senegal',\n 'Cases_Senegal',\n 'Cases_Senegal',\n 'Cases_Senegal',\n 'Cases_Senegal',\n 'Cases_Senegal',\n 'Cases_Senegal',\n 'Cases_Senegal',\n 'Cases_Senegal',\n 'Cases_Senegal',\n 'Cases_Senegal',\n 'Cases_Senegal',\n 'Cases_Senegal',\n 'Cases_Senegal',\n 'Cases_Senegal',\n 'Cases_Senegal',\n 'Cases_Senegal',\n 'Cases_Senegal',\n 'Cases_Senegal',\n 'Cases_Senegal',\n 'Cases_Senegal',\n 'Cases_Senegal',\n 'Cases_Senegal',\n 'Cases_Senegal',\n 'Cases_Senegal',\n 'Cases_Senegal',\n 'Cases_Senegal',\n 'Cases_Senegal',\n 'Cases_Senegal',\n 'Cases_Senegal',\n 'Cases_Senegal',\n 'Cases_Senegal',\n 'Cases_Senegal',\n 'Cases_Senegal',\n 'Cases_Senegal',\n 'Cases_Senegal',\n 'Cases_Senegal',\n 'Cases_Senegal',\n 'Cases_Senegal',\n 'Cases_Senegal',\n 'Cases_Senegal',\n 'Cases_Senegal',\n 'Cases_Senegal',\n 'Cases_Senegal',\n 'Cases_Senegal',\n 'Cases_Senegal',\n 'Cases_Senegal',\n 'Cases_Senegal',\n 'Cases_Senegal',\n 'Cases_Senegal',\n 'Cases_Senegal',\n 'Cases_Senegal',\n 'Cases_Senegal',\n 'Cases_Senegal',\n 'Cases_Senegal',\n 'Cases_Senegal',\n 'Cases_Senegal',\n 'Cases_Senegal',\n 'Cases_Senegal',\n 'Cases_Senegal',\n 'Cases_Senegal',\n 'Cases_Senegal',\n 'Cases_Senegal',\n 'Cases_Senegal',\n 'Cases_Senegal',\n 'Cases_Senegal',\n 'Cases_Senegal',\n 'Cases_Senegal',\n 'Cases_Senegal',\n 'Cases_Senegal',\n 'Cases_Senegal',\n 'Cases_Senegal',\n 'Cases_Senegal',\n 'Cases_Senegal',\n 'Cases_Senegal',\n 'Cases_Senegal',\n 'Cases_Senegal',\n 'Cases_Senegal',\n 'Cases_Senegal',\n 'Cases_Senegal',\n 'Cases_Senegal',\n 'Cases_Senegal',\n 'Cases_Senegal',\n 'Cases_Senegal',\n 'Cases_Senegal',\n 'Cases_Senegal',\n 'Cases_Senegal',\n 'Cases_Senegal',\n 'Cases_Senegal',\n 'Cases_UnitedStates',\n 'Cases_UnitedStates',\n 'Cases_UnitedStates',\n 'Cases_UnitedStates',\n 'Cases_UnitedStates',\n 'Cases_UnitedStates',\n 'Cases_UnitedStates',\n 'Cases_UnitedStates',\n 'Cases_UnitedStates',\n 'Cases_UnitedStates',\n 'Cases_UnitedStates',\n 'Cases_UnitedStates',\n 'Cases_UnitedStates',\n 'Cases_UnitedStates',\n 'Cases_UnitedStates',\n 'Cases_UnitedStates',\n 'Cases_UnitedStates',\n 'Cases_UnitedStates',\n 'Cases_UnitedStates',\n 'Cases_UnitedStates',\n 'Cases_UnitedStates',\n 'Cases_UnitedStates',\n 'Cases_UnitedStates',\n 'Cases_UnitedStates',\n 'Cases_UnitedStates',\n 'Cases_UnitedStates',\n 'Cases_UnitedStates',\n 'Cases_UnitedStates',\n 'Cases_UnitedStates',\n 'Cases_UnitedStates',\n 'Cases_UnitedStates',\n 'Cases_UnitedStates',\n 'Cases_UnitedStates',\n 'Cases_UnitedStates',\n 'Cases_UnitedStates',\n 'Cases_UnitedStates',\n 'Cases_UnitedStates',\n 'Cases_UnitedStates',\n 'Cases_UnitedStates',\n 'Cases_UnitedStates',\n 'Cases_UnitedStates',\n 'Cases_UnitedStates',\n 'Cases_UnitedStates',\n 'Cases_UnitedStates',\n 'Cases_UnitedStates',\n 'Cases_UnitedStates',\n 'Cases_UnitedStates',\n 'Cases_UnitedStates',\n 'Cases_UnitedStates',\n 'Cases_UnitedStates',\n 'Cases_UnitedStates',\n 'Cases_UnitedStates',\n 'Cases_UnitedStates',\n 'Cases_UnitedStates',\n 'Cases_UnitedStates',\n 'Cases_UnitedStates',\n 'Cases_UnitedStates',\n 'Cases_UnitedStates',\n 'Cases_UnitedStates',\n 'Cases_UnitedStates',\n 'Cases_UnitedStates',\n 'Cases_UnitedStates',\n 'Cases_UnitedStates',\n 'Cases_UnitedStates',\n 'Cases_UnitedStates',\n 'Cases_UnitedStates',\n 'Cases_UnitedStates',\n 'Cases_UnitedStates',\n 'Cases_UnitedStates',\n 'Cases_UnitedStates',\n 'Cases_UnitedStates',\n 'Cases_UnitedStates',\n 'Cases_UnitedStates',\n 'Cases_UnitedStates',\n 'Cases_UnitedStates',\n 'Cases_UnitedStates',\n 'Cases_UnitedStates',\n 'Cases_UnitedStates',\n 'Cases_UnitedStates',\n 'Cases_UnitedStates',\n 'Cases_UnitedStates',\n 'Cases_UnitedStates',\n 'Cases_UnitedStates',\n 'Cases_UnitedStates',\n 'Cases_UnitedStates',\n 'Cases_UnitedStates',\n 'Cases_UnitedStates',\n 'Cases_UnitedStates',\n 'Cases_UnitedStates',\n 'Cases_UnitedStates',\n 'Cases_UnitedStates',\n 'Cases_UnitedStates',\n 'Cases_UnitedStates',\n 'Cases_UnitedStates',\n 'Cases_UnitedStates',\n 'Cases_UnitedStates',\n 'Cases_UnitedStates',\n 'Cases_UnitedStates',\n 'Cases_UnitedStates',\n 'Cases_UnitedStates',\n 'Cases_UnitedStates',\n 'Cases_UnitedStates',\n 'Cases_UnitedStates',\n 'Cases_UnitedStates',\n 'Cases_UnitedStates',\n 'Cases_UnitedStates',\n 'Cases_UnitedStates',\n 'Cases_UnitedStates',\n 'Cases_UnitedStates',\n 'Cases_UnitedStates',\n 'Cases_UnitedStates',\n 'Cases_UnitedStates',\n 'Cases_UnitedStates',\n 'Cases_UnitedStates',\n 'Cases_UnitedStates',\n 'Cases_UnitedStates',\n 'Cases_UnitedStates',\n 'Cases_UnitedStates',\n 'Cases_UnitedStates',\n 'Cases_UnitedStates',\n 'Cases_UnitedStates',\n 'Cases_UnitedStates',\n 'Cases_Spain',\n 'Cases_Spain',\n 'Cases_Spain',\n 'Cases_Spain',\n 'Cases_Spain',\n 'Cases_Spain',\n 'Cases_Spain',\n 'Cases_Spain',\n 'Cases_Spain',\n 'Cases_Spain',\n 'Cases_Spain',\n 'Cases_Spain',\n 'Cases_Spain',\n 'Cases_Spain',\n 'Cases_Spain',\n 'Cases_Spain',\n 'Cases_Spain',\n 'Cases_Spain',\n 'Cases_Spain',\n 'Cases_Spain',\n 'Cases_Spain',\n 'Cases_Spain',\n 'Cases_Spain',\n 'Cases_Spain',\n 'Cases_Spain',\n 'Cases_Spain',\n 'Cases_Spain',\n 'Cases_Spain',\n 'Cases_Spain',\n 'Cases_Spain',\n 'Cases_Spain',\n 'Cases_Spain',\n 'Cases_Spain',\n 'Cases_Spain',\n 'Cases_Spain',\n 'Cases_Spain',\n 'Cases_Spain',\n 'Cases_Spain',\n 'Cases_Spain',\n 'Cases_Spain',\n 'Cases_Spain',\n 'Cases_Spain',\n 'Cases_Spain',\n 'Cases_Spain',\n 'Cases_Spain',\n 'Cases_Spain',\n 'Cases_Spain',\n 'Cases_Spain',\n 'Cases_Spain',\n 'Cases_Spain',\n 'Cases_Spain',\n 'Cases_Spain',\n 'Cases_Spain',\n 'Cases_Spain',\n 'Cases_Spain',\n 'Cases_Spain',\n 'Cases_Spain',\n 'Cases_Spain',\n 'Cases_Spain',\n 'Cases_Spain',\n 'Cases_Spain',\n 'Cases_Spain',\n 'Cases_Spain',\n 'Cases_Spain',\n 'Cases_Spain',\n 'Cases_Spain',\n 'Cases_Spain',\n 'Cases_Spain',\n 'Cases_Spain',\n 'Cases_Spain',\n 'Cases_Spain',\n 'Cases_Spain',\n 'Cases_Spain',\n 'Cases_Spain',\n 'Cases_Spain',\n 'Cases_Spain',\n 'Cases_Spain',\n 'Cases_Spain',\n 'Cases_Spain',\n 'Cases_Spain',\n 'Cases_Spain',\n 'Cases_Spain',\n 'Cases_Spain',\n 'Cases_Spain',\n 'Cases_Spain',\n 'Cases_Spain',\n 'Cases_Spain',\n 'Cases_Spain',\n 'Cases_Spain',\n 'Cases_Spain',\n 'Cases_Spain',\n 'Cases_Spain',\n 'Cases_Spain',\n 'Cases_Spain',\n 'Cases_Spain',\n 'Cases_Spain',\n 'Cases_Spain',\n 'Cases_Spain',\n 'Cases_Spain',\n 'Cases_Spain',\n 'Cases_Spain',\n 'Cases_Spain',\n 'Cases_Spain',\n 'Cases_Spain',\n 'Cases_Spain',\n 'Cases_Spain',\n 'Cases_Spain',\n 'Cases_Spain',\n 'Cases_Spain',\n 'Cases_Spain',\n 'Cases_Spain',\n 'Cases_Spain',\n 'Cases_Spain',\n 'Cases_Spain',\n 'Cases_Spain',\n 'Cases_Spain',\n 'Cases_Spain',\n 'Cases_Spain',\n 'Cases_Spain',\n 'Cases_Spain',\n 'Cases_Spain',\n 'Cases_Spain',\n 'Cases_Mali',\n 'Cases_Mali',\n 'Cases_Mali',\n 'Cases_Mali',\n 'Cases_Mali',\n 'Cases_Mali',\n 'Cases_Mali',\n 'Cases_Mali',\n 'Cases_Mali',\n 'Cases_Mali',\n 'Cases_Mali',\n 'Cases_Mali',\n 'Cases_Mali',\n 'Cases_Mali',\n 'Cases_Mali',\n 'Cases_Mali',\n 'Cases_Mali',\n 'Cases_Mali',\n 'Cases_Mali',\n 'Cases_Mali',\n 'Cases_Mali',\n 'Cases_Mali',\n 'Cases_Mali',\n 'Cases_Mali',\n 'Cases_Mali',\n 'Cases_Mali',\n 'Cases_Mali',\n 'Cases_Mali',\n 'Cases_Mali',\n 'Cases_Mali',\n 'Cases_Mali',\n 'Cases_Mali',\n 'Cases_Mali',\n 'Cases_Mali',\n 'Cases_Mali',\n 'Cases_Mali',\n 'Cases_Mali',\n 'Cases_Mali',\n 'Cases_Mali',\n 'Cases_Mali',\n 'Cases_Mali',\n 'Cases_Mali',\n 'Cases_Mali',\n 'Cases_Mali',\n 'Cases_Mali',\n 'Cases_Mali',\n 'Cases_Mali',\n 'Cases_Mali',\n 'Cases_Mali',\n 'Cases_Mali',\n 'Cases_Mali',\n 'Cases_Mali',\n 'Cases_Mali',\n 'Cases_Mali',\n 'Cases_Mali',\n 'Cases_Mali',\n 'Cases_Mali',\n 'Cases_Mali',\n 'Cases_Mali',\n 'Cases_Mali',\n 'Cases_Mali',\n 'Cases_Mali',\n 'Cases_Mali',\n 'Cases_Mali',\n 'Cases_Mali',\n 'Cases_Mali',\n 'Cases_Mali',\n 'Cases_Mali',\n 'Cases_Mali',\n 'Cases_Mali',\n 'Cases_Mali',\n 'Cases_Mali',\n 'Cases_Mali',\n 'Cases_Mali',\n 'Cases_Mali',\n 'Cases_Mali',\n 'Cases_Mali',\n 'Cases_Mali',\n 'Cases_Mali',\n 'Cases_Mali',\n 'Cases_Mali',\n 'Cases_Mali',\n 'Cases_Mali',\n 'Cases_Mali',\n 'Cases_Mali',\n 'Cases_Mali',\n 'Cases_Mali',\n 'Cases_Mali',\n 'Cases_Mali',\n 'Cases_Mali',\n 'Cases_Mali',\n 'Cases_Mali',\n 'Cases_Mali',\n 'Cases_Mali',\n 'Cases_Mali',\n 'Cases_Mali',\n 'Cases_Mali',\n 'Cases_Mali',\n 'Cases_Mali',\n 'Cases_Mali',\n 'Cases_Mali',\n 'Cases_Mali',\n 'Cases_Mali',\n 'Cases_Mali',\n 'Cases_Mali',\n 'Cases_Mali',\n 'Cases_Mali',\n 'Cases_Mali',\n 'Cases_Mali',\n 'Cases_Mali',\n 'Cases_Mali',\n 'Cases_Mali',\n 'Cases_Mali',\n 'Cases_Mali',\n 'Cases_Mali',\n 'Cases_Mali',\n 'Cases_Mali',\n 'Cases_Mali',\n 'Cases_Mali',\n 'Cases_Mali',\n 'Cases_Mali',\n 'Cases_Mali',\n 'Deaths_Guinea',\n 'Deaths_Guinea',\n 'Deaths_Guinea',\n 'Deaths_Guinea',\n 'Deaths_Guinea',\n 'Deaths_Guinea',\n 'Deaths_Guinea',\n 'Deaths_Guinea',\n 'Deaths_Guinea',\n 'Deaths_Guinea',\n 'Deaths_Guinea',\n 'Deaths_Guinea',\n 'Deaths_Guinea',\n 'Deaths_Guinea',\n 'Deaths_Guinea',\n 'Deaths_Guinea',\n 'Deaths_Guinea',\n 'Deaths_Guinea',\n 'Deaths_Guinea',\n 'Deaths_Guinea',\n 'Deaths_Guinea',\n 'Deaths_Guinea',\n 'Deaths_Guinea',\n 'Deaths_Guinea',\n ...]"
     },
     "execution_count": 207,
     "metadata": {},
     "output_type": "execute_result"
    }
   ],
   "source": [
    "(ebola_melt['Country'].tolist())"
   ],
   "metadata": {
    "collapsed": false,
    "pycharm": {
     "name": "#%%\n"
    }
   }
  },
  {
   "cell_type": "code",
   "execution_count": 208,
   "outputs": [
    {
     "data": {
      "text/plain": "0       Cases_Guinea\n1       Cases_Guinea\n2       Cases_Guinea\n3       Cases_Guinea\n4       Cases_Guinea\n            ...     \n1947     Deaths_Mali\n1948     Deaths_Mali\n1949     Deaths_Mali\n1950     Deaths_Mali\n1951     Deaths_Mali\nName: 0, Length: 1952, dtype: object"
     },
     "execution_count": 208,
     "metadata": {},
     "output_type": "execute_result"
    }
   ],
   "source": [
    "pd.DataFrame((ebola_melt['Country'].tolist()))[0]"
   ],
   "metadata": {
    "collapsed": false,
    "pycharm": {
     "name": "#%%\n"
    }
   }
  },
  {
   "cell_type": "code",
   "execution_count": 208,
   "outputs": [],
   "source": [],
   "metadata": {
    "collapsed": false,
    "pycharm": {
     "name": "#%%\n"
    }
   }
  },
  {
   "cell_type": "markdown",
   "source": [
    "# Read HK Covid19 data"
   ],
   "metadata": {
    "collapsed": false,
    "pycharm": {
     "name": "#%% md\n"
    }
   }
  },
  {
   "cell_type": "code",
   "execution_count": 265,
   "outputs": [
    {
     "data": {
      "text/plain": "                                coordinates district_name_en  \\\n0       [114.18967533501, 22.3063142458094]     Kowloon City   \n1      [114.172594691737, 22.2973563301821]    Yau Tsim Mong   \n2      [114.234367756765, 22.3077945999409]        Kwun Tong   \n3      [114.186133853022, 22.3193907988263]     Kowloon City   \n4      [114.187725632501, 22.3193997302724]     Kowloon City   \n...                                     ...              ...   \n55658   [114.182552607391, 22.325685286671]              NaN   \n55659   [114.182552607391, 22.325685286671]              NaN   \n55660   [114.182552607391, 22.325685286671]              NaN   \n55661   [114.182552607391, 22.325685286671]              NaN   \n55662   [114.182552607391, 22.325685286671]              NaN   \n\n                                   building_name_en date_of_the_last_case  \\\n0                  Block 1, Site 11, Whampoa Garden   2020-01-30 16:00:00   \n1                   58 Nathan Road, Mirador Mansion   2020-01-31 16:00:00   \n2                    Yue Hong House, Hong Tin Court   2020-02-03 16:00:00   \n3      15 Celestial Heights, 80 Sheung Shing Street   2020-01-31 16:00:00   \n4                               183 Ma Tau Wai Road   2020-02-02 16:00:00   \n...                                             ...                   ...   \n55658                                           NaN   2022-02-04 16:00:00   \n55659                                           NaN   2022-02-05 16:00:00   \n55660                                           NaN   2022-02-05 16:00:00   \n55661                                           NaN   2022-02-05 16:00:00   \n55662                                           NaN   2022-01-27 16:00:00   \n\n      district_name_cn building_name_cn  first_reported_date  \\\n0                  九龍城       黃埔花園第十一期一座  2020-01-30 16:00:00   \n1                  油尖旺      彌敦道58號美麗都大廈  2020-01-31 16:00:00   \n2                   觀塘          康田苑 裕康閣  2020-01-30 16:00:00   \n3                  九龍城    常盛街80號半山壹號十五號  2020-01-31 16:00:00   \n4                  九龍城         馬頭圍道183號  2020-02-02 16:00:00   \n...                ...              ...                  ...   \n55658              NaN              NaN  2022-02-04 16:00:00   \n55659              NaN              NaN  2022-02-05 16:00:00   \n55660              NaN              NaN  2022-02-05 16:00:00   \n55661              NaN              NaN  2022-02-05 16:00:00   \n55662              NaN              NaN  2022-01-27 16:00:00   \n\n                                           related_cases  case_num  \\\n0                                                     13       1.0   \n1                                                  非本地個案       1.0   \n2                                                  19,20       2.0   \n3                                                     16       1.0   \n4                                                     18       1.0   \n...                                                  ...       ...   \n55658  14725,14751,14781,14808,14817,14830,14932,1493...      34.0   \n55659  15073,15076,15078,15083,15085,15087,15088,1509...      50.0   \n55660  15235,15237,15240,15242,15243,15245,15247,1524...      50.0   \n55661  15371,15373,15375,15377,15378,15379,15380,1538...      47.0   \n55662                                              97074       1.0   \n\n        Longitude   Latitude  \n0      114.189675  22.306314  \n1      114.172595  22.297356  \n2      114.234368  22.307795  \n3      114.186134  22.319391  \n4      114.187726  22.319400  \n...           ...        ...  \n55658  114.182553  22.325685  \n55659  114.182553  22.325685  \n55660  114.182553  22.325685  \n55661  114.182553  22.325685  \n55662  114.182553  22.325685  \n\n[55663 rows x 11 columns]",
      "text/html": "<div>\n<style scoped>\n    .dataframe tbody tr th:only-of-type {\n        vertical-align: middle;\n    }\n\n    .dataframe tbody tr th {\n        vertical-align: top;\n    }\n\n    .dataframe thead th {\n        text-align: right;\n    }\n</style>\n<table border=\"1\" class=\"dataframe\">\n  <thead>\n    <tr style=\"text-align: right;\">\n      <th></th>\n      <th>coordinates</th>\n      <th>district_name_en</th>\n      <th>building_name_en</th>\n      <th>date_of_the_last_case</th>\n      <th>district_name_cn</th>\n      <th>building_name_cn</th>\n      <th>first_reported_date</th>\n      <th>related_cases</th>\n      <th>case_num</th>\n      <th>Longitude</th>\n      <th>Latitude</th>\n    </tr>\n  </thead>\n  <tbody>\n    <tr>\n      <th>0</th>\n      <td>[114.18967533501, 22.3063142458094]</td>\n      <td>Kowloon City</td>\n      <td>Block 1, Site 11, Whampoa Garden</td>\n      <td>2020-01-30 16:00:00</td>\n      <td>九龍城</td>\n      <td>黃埔花園第十一期一座</td>\n      <td>2020-01-30 16:00:00</td>\n      <td>13</td>\n      <td>1.0</td>\n      <td>114.189675</td>\n      <td>22.306314</td>\n    </tr>\n    <tr>\n      <th>1</th>\n      <td>[114.172594691737, 22.2973563301821]</td>\n      <td>Yau Tsim Mong</td>\n      <td>58 Nathan Road, Mirador Mansion</td>\n      <td>2020-01-31 16:00:00</td>\n      <td>油尖旺</td>\n      <td>彌敦道58號美麗都大廈</td>\n      <td>2020-01-31 16:00:00</td>\n      <td>非本地個案</td>\n      <td>1.0</td>\n      <td>114.172595</td>\n      <td>22.297356</td>\n    </tr>\n    <tr>\n      <th>2</th>\n      <td>[114.234367756765, 22.3077945999409]</td>\n      <td>Kwun Tong</td>\n      <td>Yue Hong House, Hong Tin Court</td>\n      <td>2020-02-03 16:00:00</td>\n      <td>觀塘</td>\n      <td>康田苑 裕康閣</td>\n      <td>2020-01-30 16:00:00</td>\n      <td>19,20</td>\n      <td>2.0</td>\n      <td>114.234368</td>\n      <td>22.307795</td>\n    </tr>\n    <tr>\n      <th>3</th>\n      <td>[114.186133853022, 22.3193907988263]</td>\n      <td>Kowloon City</td>\n      <td>15 Celestial Heights, 80 Sheung Shing Street</td>\n      <td>2020-01-31 16:00:00</td>\n      <td>九龍城</td>\n      <td>常盛街80號半山壹號十五號</td>\n      <td>2020-01-31 16:00:00</td>\n      <td>16</td>\n      <td>1.0</td>\n      <td>114.186134</td>\n      <td>22.319391</td>\n    </tr>\n    <tr>\n      <th>4</th>\n      <td>[114.187725632501, 22.3193997302724]</td>\n      <td>Kowloon City</td>\n      <td>183 Ma Tau Wai Road</td>\n      <td>2020-02-02 16:00:00</td>\n      <td>九龍城</td>\n      <td>馬頭圍道183號</td>\n      <td>2020-02-02 16:00:00</td>\n      <td>18</td>\n      <td>1.0</td>\n      <td>114.187726</td>\n      <td>22.319400</td>\n    </tr>\n    <tr>\n      <th>...</th>\n      <td>...</td>\n      <td>...</td>\n      <td>...</td>\n      <td>...</td>\n      <td>...</td>\n      <td>...</td>\n      <td>...</td>\n      <td>...</td>\n      <td>...</td>\n      <td>...</td>\n      <td>...</td>\n    </tr>\n    <tr>\n      <th>55658</th>\n      <td>[114.182552607391, 22.325685286671]</td>\n      <td>NaN</td>\n      <td>NaN</td>\n      <td>2022-02-04 16:00:00</td>\n      <td>NaN</td>\n      <td>NaN</td>\n      <td>2022-02-04 16:00:00</td>\n      <td>14725,14751,14781,14808,14817,14830,14932,1493...</td>\n      <td>34.0</td>\n      <td>114.182553</td>\n      <td>22.325685</td>\n    </tr>\n    <tr>\n      <th>55659</th>\n      <td>[114.182552607391, 22.325685286671]</td>\n      <td>NaN</td>\n      <td>NaN</td>\n      <td>2022-02-05 16:00:00</td>\n      <td>NaN</td>\n      <td>NaN</td>\n      <td>2022-02-05 16:00:00</td>\n      <td>15073,15076,15078,15083,15085,15087,15088,1509...</td>\n      <td>50.0</td>\n      <td>114.182553</td>\n      <td>22.325685</td>\n    </tr>\n    <tr>\n      <th>55660</th>\n      <td>[114.182552607391, 22.325685286671]</td>\n      <td>NaN</td>\n      <td>NaN</td>\n      <td>2022-02-05 16:00:00</td>\n      <td>NaN</td>\n      <td>NaN</td>\n      <td>2022-02-05 16:00:00</td>\n      <td>15235,15237,15240,15242,15243,15245,15247,1524...</td>\n      <td>50.0</td>\n      <td>114.182553</td>\n      <td>22.325685</td>\n    </tr>\n    <tr>\n      <th>55661</th>\n      <td>[114.182552607391, 22.325685286671]</td>\n      <td>NaN</td>\n      <td>NaN</td>\n      <td>2022-02-05 16:00:00</td>\n      <td>NaN</td>\n      <td>NaN</td>\n      <td>2022-02-05 16:00:00</td>\n      <td>15371,15373,15375,15377,15378,15379,15380,1538...</td>\n      <td>47.0</td>\n      <td>114.182553</td>\n      <td>22.325685</td>\n    </tr>\n    <tr>\n      <th>55662</th>\n      <td>[114.182552607391, 22.325685286671]</td>\n      <td>NaN</td>\n      <td>NaN</td>\n      <td>2022-01-27 16:00:00</td>\n      <td>NaN</td>\n      <td>NaN</td>\n      <td>2022-01-27 16:00:00</td>\n      <td>97074</td>\n      <td>1.0</td>\n      <td>114.182553</td>\n      <td>22.325685</td>\n    </tr>\n  </tbody>\n</table>\n<p>55663 rows × 11 columns</p>\n</div>"
     },
     "execution_count": 265,
     "metadata": {},
     "output_type": "execute_result"
    }
   ],
   "source": [
    "hk_covid = pd.read_csv('../data/result.csv')\n",
    "hk_covid"
   ],
   "metadata": {
    "collapsed": false,
    "pycharm": {
     "name": "#%%\n"
    }
   }
  },
  {
   "cell_type": "code",
   "execution_count": 309,
   "outputs": [
    {
     "name": "stdout",
     "output_type": "stream",
     "text": [
      "data consuming is  0.11300158500671387\n"
     ]
    },
    {
     "data": {
      "text/plain": "                                coordinates district_name_en  \\\n0       [114.18967533501, 22.3063142458094]     Kowloon City   \n1      [114.172594691737, 22.2973563301821]    Yau Tsim Mong   \n2      [114.234367756765, 22.3077945999409]        Kwun Tong   \n3      [114.186133853022, 22.3193907988263]     Kowloon City   \n4      [114.187725632501, 22.3193997302724]     Kowloon City   \n...                                     ...              ...   \n55658   [114.182552607391, 22.325685286671]              NaN   \n55659   [114.182552607391, 22.325685286671]              NaN   \n55660   [114.182552607391, 22.325685286671]              NaN   \n55661   [114.182552607391, 22.325685286671]              NaN   \n55662   [114.182552607391, 22.325685286671]              NaN   \n\n                                   building_name_en date_of_the_last_case  \\\n0                  Block 1, Site 11, Whampoa Garden   2020-01-30 16:00:00   \n1                   58 Nathan Road, Mirador Mansion   2020-01-31 16:00:00   \n2                    Yue Hong House, Hong Tin Court   2020-02-03 16:00:00   \n3      15 Celestial Heights, 80 Sheung Shing Street   2020-01-31 16:00:00   \n4                               183 Ma Tau Wai Road   2020-02-02 16:00:00   \n...                                             ...                   ...   \n55658                                           NaN   2022-02-04 16:00:00   \n55659                                           NaN   2022-02-05 16:00:00   \n55660                                           NaN   2022-02-05 16:00:00   \n55661                                           NaN   2022-02-05 16:00:00   \n55662                                           NaN   2022-01-27 16:00:00   \n\n      district_name_cn building_name_cn  first_reported_date  \\\n0                  九龍城       黃埔花園第十一期一座  2020-01-30 16:00:00   \n1                  油尖旺      彌敦道58號美麗都大廈  2020-01-31 16:00:00   \n2                   觀塘          康田苑 裕康閣  2020-01-30 16:00:00   \n3                  九龍城    常盛街80號半山壹號十五號  2020-01-31 16:00:00   \n4                  九龍城         馬頭圍道183號  2020-02-02 16:00:00   \n...                ...              ...                  ...   \n55658              NaN              NaN  2022-02-04 16:00:00   \n55659              NaN              NaN  2022-02-05 16:00:00   \n55660              NaN              NaN  2022-02-05 16:00:00   \n55661              NaN              NaN  2022-02-05 16:00:00   \n55662              NaN              NaN  2022-01-27 16:00:00   \n\n                                           related_cases  case_num  \\\n0                                                     13       1.0   \n1                                                  非本地個案       1.0   \n2                                                  19,20       2.0   \n3                                                     16       1.0   \n4                                                     18       1.0   \n...                                                  ...       ...   \n55658  14725,14751,14781,14808,14817,14830,14932,1493...      34.0   \n55659  15073,15076,15078,15083,15085,15087,15088,1509...      50.0   \n55660  15235,15237,15240,15242,15243,15245,15247,1524...      50.0   \n55661  15371,15373,15375,15377,15378,15379,15380,1538...      47.0   \n55662                                              97074       1.0   \n\n        Longitude   Latitude              lang               lati  \n0      114.189675  22.306314   114.18967533501   22.3063142458094  \n1      114.172595  22.297356  114.172594691737   22.2973563301821  \n2      114.234368  22.307795  114.234367756765   22.3077945999409  \n3      114.186134  22.319391  114.186133853022   22.3193907988263  \n4      114.187726  22.319400  114.187725632501   22.3193997302724  \n...           ...        ...               ...                ...  \n55658  114.182553  22.325685  114.182552607391    22.325685286671  \n55659  114.182553  22.325685  114.182552607391    22.325685286671  \n55660  114.182553  22.325685  114.182552607391    22.325685286671  \n55661  114.182553  22.325685  114.182552607391    22.325685286671  \n55662  114.182553  22.325685  114.182552607391    22.325685286671  \n\n[55663 rows x 13 columns]",
      "text/html": "<div>\n<style scoped>\n    .dataframe tbody tr th:only-of-type {\n        vertical-align: middle;\n    }\n\n    .dataframe tbody tr th {\n        vertical-align: top;\n    }\n\n    .dataframe thead th {\n        text-align: right;\n    }\n</style>\n<table border=\"1\" class=\"dataframe\">\n  <thead>\n    <tr style=\"text-align: right;\">\n      <th></th>\n      <th>coordinates</th>\n      <th>district_name_en</th>\n      <th>building_name_en</th>\n      <th>date_of_the_last_case</th>\n      <th>district_name_cn</th>\n      <th>building_name_cn</th>\n      <th>first_reported_date</th>\n      <th>related_cases</th>\n      <th>case_num</th>\n      <th>Longitude</th>\n      <th>Latitude</th>\n      <th>lang</th>\n      <th>lati</th>\n    </tr>\n  </thead>\n  <tbody>\n    <tr>\n      <th>0</th>\n      <td>[114.18967533501, 22.3063142458094]</td>\n      <td>Kowloon City</td>\n      <td>Block 1, Site 11, Whampoa Garden</td>\n      <td>2020-01-30 16:00:00</td>\n      <td>九龍城</td>\n      <td>黃埔花園第十一期一座</td>\n      <td>2020-01-30 16:00:00</td>\n      <td>13</td>\n      <td>1.0</td>\n      <td>114.189675</td>\n      <td>22.306314</td>\n      <td>114.18967533501</td>\n      <td>22.3063142458094</td>\n    </tr>\n    <tr>\n      <th>1</th>\n      <td>[114.172594691737, 22.2973563301821]</td>\n      <td>Yau Tsim Mong</td>\n      <td>58 Nathan Road, Mirador Mansion</td>\n      <td>2020-01-31 16:00:00</td>\n      <td>油尖旺</td>\n      <td>彌敦道58號美麗都大廈</td>\n      <td>2020-01-31 16:00:00</td>\n      <td>非本地個案</td>\n      <td>1.0</td>\n      <td>114.172595</td>\n      <td>22.297356</td>\n      <td>114.172594691737</td>\n      <td>22.2973563301821</td>\n    </tr>\n    <tr>\n      <th>2</th>\n      <td>[114.234367756765, 22.3077945999409]</td>\n      <td>Kwun Tong</td>\n      <td>Yue Hong House, Hong Tin Court</td>\n      <td>2020-02-03 16:00:00</td>\n      <td>觀塘</td>\n      <td>康田苑 裕康閣</td>\n      <td>2020-01-30 16:00:00</td>\n      <td>19,20</td>\n      <td>2.0</td>\n      <td>114.234368</td>\n      <td>22.307795</td>\n      <td>114.234367756765</td>\n      <td>22.3077945999409</td>\n    </tr>\n    <tr>\n      <th>3</th>\n      <td>[114.186133853022, 22.3193907988263]</td>\n      <td>Kowloon City</td>\n      <td>15 Celestial Heights, 80 Sheung Shing Street</td>\n      <td>2020-01-31 16:00:00</td>\n      <td>九龍城</td>\n      <td>常盛街80號半山壹號十五號</td>\n      <td>2020-01-31 16:00:00</td>\n      <td>16</td>\n      <td>1.0</td>\n      <td>114.186134</td>\n      <td>22.319391</td>\n      <td>114.186133853022</td>\n      <td>22.3193907988263</td>\n    </tr>\n    <tr>\n      <th>4</th>\n      <td>[114.187725632501, 22.3193997302724]</td>\n      <td>Kowloon City</td>\n      <td>183 Ma Tau Wai Road</td>\n      <td>2020-02-02 16:00:00</td>\n      <td>九龍城</td>\n      <td>馬頭圍道183號</td>\n      <td>2020-02-02 16:00:00</td>\n      <td>18</td>\n      <td>1.0</td>\n      <td>114.187726</td>\n      <td>22.319400</td>\n      <td>114.187725632501</td>\n      <td>22.3193997302724</td>\n    </tr>\n    <tr>\n      <th>...</th>\n      <td>...</td>\n      <td>...</td>\n      <td>...</td>\n      <td>...</td>\n      <td>...</td>\n      <td>...</td>\n      <td>...</td>\n      <td>...</td>\n      <td>...</td>\n      <td>...</td>\n      <td>...</td>\n      <td>...</td>\n      <td>...</td>\n    </tr>\n    <tr>\n      <th>55658</th>\n      <td>[114.182552607391, 22.325685286671]</td>\n      <td>NaN</td>\n      <td>NaN</td>\n      <td>2022-02-04 16:00:00</td>\n      <td>NaN</td>\n      <td>NaN</td>\n      <td>2022-02-04 16:00:00</td>\n      <td>14725,14751,14781,14808,14817,14830,14932,1493...</td>\n      <td>34.0</td>\n      <td>114.182553</td>\n      <td>22.325685</td>\n      <td>114.182552607391</td>\n      <td>22.325685286671</td>\n    </tr>\n    <tr>\n      <th>55659</th>\n      <td>[114.182552607391, 22.325685286671]</td>\n      <td>NaN</td>\n      <td>NaN</td>\n      <td>2022-02-05 16:00:00</td>\n      <td>NaN</td>\n      <td>NaN</td>\n      <td>2022-02-05 16:00:00</td>\n      <td>15073,15076,15078,15083,15085,15087,15088,1509...</td>\n      <td>50.0</td>\n      <td>114.182553</td>\n      <td>22.325685</td>\n      <td>114.182552607391</td>\n      <td>22.325685286671</td>\n    </tr>\n    <tr>\n      <th>55660</th>\n      <td>[114.182552607391, 22.325685286671]</td>\n      <td>NaN</td>\n      <td>NaN</td>\n      <td>2022-02-05 16:00:00</td>\n      <td>NaN</td>\n      <td>NaN</td>\n      <td>2022-02-05 16:00:00</td>\n      <td>15235,15237,15240,15242,15243,15245,15247,1524...</td>\n      <td>50.0</td>\n      <td>114.182553</td>\n      <td>22.325685</td>\n      <td>114.182552607391</td>\n      <td>22.325685286671</td>\n    </tr>\n    <tr>\n      <th>55661</th>\n      <td>[114.182552607391, 22.325685286671]</td>\n      <td>NaN</td>\n      <td>NaN</td>\n      <td>2022-02-05 16:00:00</td>\n      <td>NaN</td>\n      <td>NaN</td>\n      <td>2022-02-05 16:00:00</td>\n      <td>15371,15373,15375,15377,15378,15379,15380,1538...</td>\n      <td>47.0</td>\n      <td>114.182553</td>\n      <td>22.325685</td>\n      <td>114.182552607391</td>\n      <td>22.325685286671</td>\n    </tr>\n    <tr>\n      <th>55662</th>\n      <td>[114.182552607391, 22.325685286671]</td>\n      <td>NaN</td>\n      <td>NaN</td>\n      <td>2022-01-27 16:00:00</td>\n      <td>NaN</td>\n      <td>NaN</td>\n      <td>2022-01-27 16:00:00</td>\n      <td>97074</td>\n      <td>1.0</td>\n      <td>114.182553</td>\n      <td>22.325685</td>\n      <td>114.182552607391</td>\n      <td>22.325685286671</td>\n    </tr>\n  </tbody>\n</table>\n<p>55663 rows × 13 columns</p>\n</div>"
     },
     "execution_count": 309,
     "metadata": {},
     "output_type": "execute_result"
    }
   ],
   "source": [
    "import time\n",
    "start = time.time()\n",
    "hk_covid[['lang', 'lati']] = (hk_covid['coordinates'].str.strip('[] ').str.split(',', expand=True))\n",
    "end = time.time()\n",
    "print(\"data consuming is \", end - start)\n",
    "hk_covid"
   ],
   "metadata": {
    "collapsed": false,
    "pycharm": {
     "name": "#%%\n"
    }
   }
  },
  {
   "cell_type": "code",
   "execution_count": 310,
   "outputs": [
    {
     "name": "stdout",
     "output_type": "stream",
     "text": [
      "data consuming is  0.08600330352783203\n"
     ]
    },
    {
     "data": {
      "text/plain": "                                coordinates district_name_en  \\\n0       [114.18967533501, 22.3063142458094]     Kowloon City   \n1      [114.172594691737, 22.2973563301821]    Yau Tsim Mong   \n2      [114.234367756765, 22.3077945999409]        Kwun Tong   \n3      [114.186133853022, 22.3193907988263]     Kowloon City   \n4      [114.187725632501, 22.3193997302724]     Kowloon City   \n...                                     ...              ...   \n55658   [114.182552607391, 22.325685286671]              NaN   \n55659   [114.182552607391, 22.325685286671]              NaN   \n55660   [114.182552607391, 22.325685286671]              NaN   \n55661   [114.182552607391, 22.325685286671]              NaN   \n55662   [114.182552607391, 22.325685286671]              NaN   \n\n                                   building_name_en date_of_the_last_case  \\\n0                  Block 1, Site 11, Whampoa Garden   2020-01-30 16:00:00   \n1                   58 Nathan Road, Mirador Mansion   2020-01-31 16:00:00   \n2                    Yue Hong House, Hong Tin Court   2020-02-03 16:00:00   \n3      15 Celestial Heights, 80 Sheung Shing Street   2020-01-31 16:00:00   \n4                               183 Ma Tau Wai Road   2020-02-02 16:00:00   \n...                                             ...                   ...   \n55658                                           NaN   2022-02-04 16:00:00   \n55659                                           NaN   2022-02-05 16:00:00   \n55660                                           NaN   2022-02-05 16:00:00   \n55661                                           NaN   2022-02-05 16:00:00   \n55662                                           NaN   2022-01-27 16:00:00   \n\n      district_name_cn building_name_cn  first_reported_date  \\\n0                  九龍城       黃埔花園第十一期一座  2020-01-30 16:00:00   \n1                  油尖旺      彌敦道58號美麗都大廈  2020-01-31 16:00:00   \n2                   觀塘          康田苑 裕康閣  2020-01-30 16:00:00   \n3                  九龍城    常盛街80號半山壹號十五號  2020-01-31 16:00:00   \n4                  九龍城         馬頭圍道183號  2020-02-02 16:00:00   \n...                ...              ...                  ...   \n55658              NaN              NaN  2022-02-04 16:00:00   \n55659              NaN              NaN  2022-02-05 16:00:00   \n55660              NaN              NaN  2022-02-05 16:00:00   \n55661              NaN              NaN  2022-02-05 16:00:00   \n55662              NaN              NaN  2022-01-27 16:00:00   \n\n                                           related_cases  case_num  \\\n0                                                     13       1.0   \n1                                                  非本地個案       1.0   \n2                                                  19,20       2.0   \n3                                                     16       1.0   \n4                                                     18       1.0   \n...                                                  ...       ...   \n55658  14725,14751,14781,14808,14817,14830,14932,1493...      34.0   \n55659  15073,15076,15078,15083,15085,15087,15088,1509...      50.0   \n55660  15235,15237,15240,15242,15243,15245,15247,1524...      50.0   \n55661  15371,15373,15375,15377,15378,15379,15380,1538...      47.0   \n55662                                              97074       1.0   \n\n        Longitude   Latitude              lang              lati  \n0      114.189675  22.306314   114.18967533501  22.3063142458094  \n1      114.172595  22.297356  114.172594691737  22.2973563301821  \n2      114.234368  22.307795  114.234367756765  22.3077945999409  \n3      114.186134  22.319391  114.186133853022  22.3193907988263  \n4      114.187726  22.319400  114.187725632501  22.3193997302724  \n...           ...        ...               ...               ...  \n55658  114.182553  22.325685  114.182552607391   22.325685286671  \n55659  114.182553  22.325685  114.182552607391   22.325685286671  \n55660  114.182553  22.325685  114.182552607391   22.325685286671  \n55661  114.182553  22.325685  114.182552607391   22.325685286671  \n55662  114.182553  22.325685  114.182552607391   22.325685286671  \n\n[55663 rows x 13 columns]",
      "text/html": "<div>\n<style scoped>\n    .dataframe tbody tr th:only-of-type {\n        vertical-align: middle;\n    }\n\n    .dataframe tbody tr th {\n        vertical-align: top;\n    }\n\n    .dataframe thead th {\n        text-align: right;\n    }\n</style>\n<table border=\"1\" class=\"dataframe\">\n  <thead>\n    <tr style=\"text-align: right;\">\n      <th></th>\n      <th>coordinates</th>\n      <th>district_name_en</th>\n      <th>building_name_en</th>\n      <th>date_of_the_last_case</th>\n      <th>district_name_cn</th>\n      <th>building_name_cn</th>\n      <th>first_reported_date</th>\n      <th>related_cases</th>\n      <th>case_num</th>\n      <th>Longitude</th>\n      <th>Latitude</th>\n      <th>lang</th>\n      <th>lati</th>\n    </tr>\n  </thead>\n  <tbody>\n    <tr>\n      <th>0</th>\n      <td>[114.18967533501, 22.3063142458094]</td>\n      <td>Kowloon City</td>\n      <td>Block 1, Site 11, Whampoa Garden</td>\n      <td>2020-01-30 16:00:00</td>\n      <td>九龍城</td>\n      <td>黃埔花園第十一期一座</td>\n      <td>2020-01-30 16:00:00</td>\n      <td>13</td>\n      <td>1.0</td>\n      <td>114.189675</td>\n      <td>22.306314</td>\n      <td>114.18967533501</td>\n      <td>22.3063142458094</td>\n    </tr>\n    <tr>\n      <th>1</th>\n      <td>[114.172594691737, 22.2973563301821]</td>\n      <td>Yau Tsim Mong</td>\n      <td>58 Nathan Road, Mirador Mansion</td>\n      <td>2020-01-31 16:00:00</td>\n      <td>油尖旺</td>\n      <td>彌敦道58號美麗都大廈</td>\n      <td>2020-01-31 16:00:00</td>\n      <td>非本地個案</td>\n      <td>1.0</td>\n      <td>114.172595</td>\n      <td>22.297356</td>\n      <td>114.172594691737</td>\n      <td>22.2973563301821</td>\n    </tr>\n    <tr>\n      <th>2</th>\n      <td>[114.234367756765, 22.3077945999409]</td>\n      <td>Kwun Tong</td>\n      <td>Yue Hong House, Hong Tin Court</td>\n      <td>2020-02-03 16:00:00</td>\n      <td>觀塘</td>\n      <td>康田苑 裕康閣</td>\n      <td>2020-01-30 16:00:00</td>\n      <td>19,20</td>\n      <td>2.0</td>\n      <td>114.234368</td>\n      <td>22.307795</td>\n      <td>114.234367756765</td>\n      <td>22.3077945999409</td>\n    </tr>\n    <tr>\n      <th>3</th>\n      <td>[114.186133853022, 22.3193907988263]</td>\n      <td>Kowloon City</td>\n      <td>15 Celestial Heights, 80 Sheung Shing Street</td>\n      <td>2020-01-31 16:00:00</td>\n      <td>九龍城</td>\n      <td>常盛街80號半山壹號十五號</td>\n      <td>2020-01-31 16:00:00</td>\n      <td>16</td>\n      <td>1.0</td>\n      <td>114.186134</td>\n      <td>22.319391</td>\n      <td>114.186133853022</td>\n      <td>22.3193907988263</td>\n    </tr>\n    <tr>\n      <th>4</th>\n      <td>[114.187725632501, 22.3193997302724]</td>\n      <td>Kowloon City</td>\n      <td>183 Ma Tau Wai Road</td>\n      <td>2020-02-02 16:00:00</td>\n      <td>九龍城</td>\n      <td>馬頭圍道183號</td>\n      <td>2020-02-02 16:00:00</td>\n      <td>18</td>\n      <td>1.0</td>\n      <td>114.187726</td>\n      <td>22.319400</td>\n      <td>114.187725632501</td>\n      <td>22.3193997302724</td>\n    </tr>\n    <tr>\n      <th>...</th>\n      <td>...</td>\n      <td>...</td>\n      <td>...</td>\n      <td>...</td>\n      <td>...</td>\n      <td>...</td>\n      <td>...</td>\n      <td>...</td>\n      <td>...</td>\n      <td>...</td>\n      <td>...</td>\n      <td>...</td>\n      <td>...</td>\n    </tr>\n    <tr>\n      <th>55658</th>\n      <td>[114.182552607391, 22.325685286671]</td>\n      <td>NaN</td>\n      <td>NaN</td>\n      <td>2022-02-04 16:00:00</td>\n      <td>NaN</td>\n      <td>NaN</td>\n      <td>2022-02-04 16:00:00</td>\n      <td>14725,14751,14781,14808,14817,14830,14932,1493...</td>\n      <td>34.0</td>\n      <td>114.182553</td>\n      <td>22.325685</td>\n      <td>114.182552607391</td>\n      <td>22.325685286671</td>\n    </tr>\n    <tr>\n      <th>55659</th>\n      <td>[114.182552607391, 22.325685286671]</td>\n      <td>NaN</td>\n      <td>NaN</td>\n      <td>2022-02-05 16:00:00</td>\n      <td>NaN</td>\n      <td>NaN</td>\n      <td>2022-02-05 16:00:00</td>\n      <td>15073,15076,15078,15083,15085,15087,15088,1509...</td>\n      <td>50.0</td>\n      <td>114.182553</td>\n      <td>22.325685</td>\n      <td>114.182552607391</td>\n      <td>22.325685286671</td>\n    </tr>\n    <tr>\n      <th>55660</th>\n      <td>[114.182552607391, 22.325685286671]</td>\n      <td>NaN</td>\n      <td>NaN</td>\n      <td>2022-02-05 16:00:00</td>\n      <td>NaN</td>\n      <td>NaN</td>\n      <td>2022-02-05 16:00:00</td>\n      <td>15235,15237,15240,15242,15243,15245,15247,1524...</td>\n      <td>50.0</td>\n      <td>114.182553</td>\n      <td>22.325685</td>\n      <td>114.182552607391</td>\n      <td>22.325685286671</td>\n    </tr>\n    <tr>\n      <th>55661</th>\n      <td>[114.182552607391, 22.325685286671]</td>\n      <td>NaN</td>\n      <td>NaN</td>\n      <td>2022-02-05 16:00:00</td>\n      <td>NaN</td>\n      <td>NaN</td>\n      <td>2022-02-05 16:00:00</td>\n      <td>15371,15373,15375,15377,15378,15379,15380,1538...</td>\n      <td>47.0</td>\n      <td>114.182553</td>\n      <td>22.325685</td>\n      <td>114.182552607391</td>\n      <td>22.325685286671</td>\n    </tr>\n    <tr>\n      <th>55662</th>\n      <td>[114.182552607391, 22.325685286671]</td>\n      <td>NaN</td>\n      <td>NaN</td>\n      <td>2022-01-27 16:00:00</td>\n      <td>NaN</td>\n      <td>NaN</td>\n      <td>2022-01-27 16:00:00</td>\n      <td>97074</td>\n      <td>1.0</td>\n      <td>114.182553</td>\n      <td>22.325685</td>\n      <td>114.182552607391</td>\n      <td>22.325685286671</td>\n    </tr>\n  </tbody>\n</table>\n<p>55663 rows × 13 columns</p>\n</div>"
     },
     "execution_count": 310,
     "metadata": {},
     "output_type": "execute_result"
    }
   ],
   "source": [
    "start = time.time()\n",
    "hk_covid[['lang', 'lati']] = pd.DataFrame(hk_covid['coordinates'].str.strip('[] ').str.split(', ').tolist())\n",
    "end = time.time()\n",
    "print(\"data consuming is \", end - start)\n",
    "hk_covid"
   ],
   "metadata": {
    "collapsed": false,
    "pycharm": {
     "name": "#%%\n"
    }
   }
  },
  {
   "cell_type": "code",
   "execution_count": 311,
   "outputs": [
    {
     "name": "stdout",
     "output_type": "stream",
     "text": [
      "data consuming is  8.194099187850952\n"
     ]
    },
    {
     "data": {
      "text/plain": "                                coordinates district_name_en  \\\n0       [114.18967533501, 22.3063142458094]     Kowloon City   \n1      [114.172594691737, 22.2973563301821]    Yau Tsim Mong   \n2      [114.234367756765, 22.3077945999409]        Kwun Tong   \n3      [114.186133853022, 22.3193907988263]     Kowloon City   \n4      [114.187725632501, 22.3193997302724]     Kowloon City   \n...                                     ...              ...   \n55658   [114.182552607391, 22.325685286671]              NaN   \n55659   [114.182552607391, 22.325685286671]              NaN   \n55660   [114.182552607391, 22.325685286671]              NaN   \n55661   [114.182552607391, 22.325685286671]              NaN   \n55662   [114.182552607391, 22.325685286671]              NaN   \n\n                                   building_name_en date_of_the_last_case  \\\n0                  Block 1, Site 11, Whampoa Garden   2020-01-30 16:00:00   \n1                   58 Nathan Road, Mirador Mansion   2020-01-31 16:00:00   \n2                    Yue Hong House, Hong Tin Court   2020-02-03 16:00:00   \n3      15 Celestial Heights, 80 Sheung Shing Street   2020-01-31 16:00:00   \n4                               183 Ma Tau Wai Road   2020-02-02 16:00:00   \n...                                             ...                   ...   \n55658                                           NaN   2022-02-04 16:00:00   \n55659                                           NaN   2022-02-05 16:00:00   \n55660                                           NaN   2022-02-05 16:00:00   \n55661                                           NaN   2022-02-05 16:00:00   \n55662                                           NaN   2022-01-27 16:00:00   \n\n      district_name_cn building_name_cn  first_reported_date  \\\n0                  九龍城       黃埔花園第十一期一座  2020-01-30 16:00:00   \n1                  油尖旺      彌敦道58號美麗都大廈  2020-01-31 16:00:00   \n2                   觀塘          康田苑 裕康閣  2020-01-30 16:00:00   \n3                  九龍城    常盛街80號半山壹號十五號  2020-01-31 16:00:00   \n4                  九龍城         馬頭圍道183號  2020-02-02 16:00:00   \n...                ...              ...                  ...   \n55658              NaN              NaN  2022-02-04 16:00:00   \n55659              NaN              NaN  2022-02-05 16:00:00   \n55660              NaN              NaN  2022-02-05 16:00:00   \n55661              NaN              NaN  2022-02-05 16:00:00   \n55662              NaN              NaN  2022-01-27 16:00:00   \n\n                                           related_cases  case_num  \\\n0                                                     13       1.0   \n1                                                  非本地個案       1.0   \n2                                                  19,20       2.0   \n3                                                     16       1.0   \n4                                                     18       1.0   \n...                                                  ...       ...   \n55658  14725,14751,14781,14808,14817,14830,14932,1493...      34.0   \n55659  15073,15076,15078,15083,15085,15087,15088,1509...      50.0   \n55660  15235,15237,15240,15242,15243,15245,15247,1524...      50.0   \n55661  15371,15373,15375,15377,15378,15379,15380,1538...      47.0   \n55662                                              97074       1.0   \n\n        Longitude   Latitude              lang              lati  \n0      114.189675  22.306314   114.18967533501  22.3063142458094  \n1      114.172595  22.297356  114.172594691737  22.2973563301821  \n2      114.234368  22.307795  114.234367756765  22.3077945999409  \n3      114.186134  22.319391  114.186133853022  22.3193907988263  \n4      114.187726  22.319400  114.187725632501  22.3193997302724  \n...           ...        ...               ...               ...  \n55658  114.182553  22.325685  114.182552607391   22.325685286671  \n55659  114.182553  22.325685  114.182552607391   22.325685286671  \n55660  114.182553  22.325685  114.182552607391   22.325685286671  \n55661  114.182553  22.325685  114.182552607391   22.325685286671  \n55662  114.182553  22.325685  114.182552607391   22.325685286671  \n\n[55663 rows x 13 columns]",
      "text/html": "<div>\n<style scoped>\n    .dataframe tbody tr th:only-of-type {\n        vertical-align: middle;\n    }\n\n    .dataframe tbody tr th {\n        vertical-align: top;\n    }\n\n    .dataframe thead th {\n        text-align: right;\n    }\n</style>\n<table border=\"1\" class=\"dataframe\">\n  <thead>\n    <tr style=\"text-align: right;\">\n      <th></th>\n      <th>coordinates</th>\n      <th>district_name_en</th>\n      <th>building_name_en</th>\n      <th>date_of_the_last_case</th>\n      <th>district_name_cn</th>\n      <th>building_name_cn</th>\n      <th>first_reported_date</th>\n      <th>related_cases</th>\n      <th>case_num</th>\n      <th>Longitude</th>\n      <th>Latitude</th>\n      <th>lang</th>\n      <th>lati</th>\n    </tr>\n  </thead>\n  <tbody>\n    <tr>\n      <th>0</th>\n      <td>[114.18967533501, 22.3063142458094]</td>\n      <td>Kowloon City</td>\n      <td>Block 1, Site 11, Whampoa Garden</td>\n      <td>2020-01-30 16:00:00</td>\n      <td>九龍城</td>\n      <td>黃埔花園第十一期一座</td>\n      <td>2020-01-30 16:00:00</td>\n      <td>13</td>\n      <td>1.0</td>\n      <td>114.189675</td>\n      <td>22.306314</td>\n      <td>114.18967533501</td>\n      <td>22.3063142458094</td>\n    </tr>\n    <tr>\n      <th>1</th>\n      <td>[114.172594691737, 22.2973563301821]</td>\n      <td>Yau Tsim Mong</td>\n      <td>58 Nathan Road, Mirador Mansion</td>\n      <td>2020-01-31 16:00:00</td>\n      <td>油尖旺</td>\n      <td>彌敦道58號美麗都大廈</td>\n      <td>2020-01-31 16:00:00</td>\n      <td>非本地個案</td>\n      <td>1.0</td>\n      <td>114.172595</td>\n      <td>22.297356</td>\n      <td>114.172594691737</td>\n      <td>22.2973563301821</td>\n    </tr>\n    <tr>\n      <th>2</th>\n      <td>[114.234367756765, 22.3077945999409]</td>\n      <td>Kwun Tong</td>\n      <td>Yue Hong House, Hong Tin Court</td>\n      <td>2020-02-03 16:00:00</td>\n      <td>觀塘</td>\n      <td>康田苑 裕康閣</td>\n      <td>2020-01-30 16:00:00</td>\n      <td>19,20</td>\n      <td>2.0</td>\n      <td>114.234368</td>\n      <td>22.307795</td>\n      <td>114.234367756765</td>\n      <td>22.3077945999409</td>\n    </tr>\n    <tr>\n      <th>3</th>\n      <td>[114.186133853022, 22.3193907988263]</td>\n      <td>Kowloon City</td>\n      <td>15 Celestial Heights, 80 Sheung Shing Street</td>\n      <td>2020-01-31 16:00:00</td>\n      <td>九龍城</td>\n      <td>常盛街80號半山壹號十五號</td>\n      <td>2020-01-31 16:00:00</td>\n      <td>16</td>\n      <td>1.0</td>\n      <td>114.186134</td>\n      <td>22.319391</td>\n      <td>114.186133853022</td>\n      <td>22.3193907988263</td>\n    </tr>\n    <tr>\n      <th>4</th>\n      <td>[114.187725632501, 22.3193997302724]</td>\n      <td>Kowloon City</td>\n      <td>183 Ma Tau Wai Road</td>\n      <td>2020-02-02 16:00:00</td>\n      <td>九龍城</td>\n      <td>馬頭圍道183號</td>\n      <td>2020-02-02 16:00:00</td>\n      <td>18</td>\n      <td>1.0</td>\n      <td>114.187726</td>\n      <td>22.319400</td>\n      <td>114.187725632501</td>\n      <td>22.3193997302724</td>\n    </tr>\n    <tr>\n      <th>...</th>\n      <td>...</td>\n      <td>...</td>\n      <td>...</td>\n      <td>...</td>\n      <td>...</td>\n      <td>...</td>\n      <td>...</td>\n      <td>...</td>\n      <td>...</td>\n      <td>...</td>\n      <td>...</td>\n      <td>...</td>\n      <td>...</td>\n    </tr>\n    <tr>\n      <th>55658</th>\n      <td>[114.182552607391, 22.325685286671]</td>\n      <td>NaN</td>\n      <td>NaN</td>\n      <td>2022-02-04 16:00:00</td>\n      <td>NaN</td>\n      <td>NaN</td>\n      <td>2022-02-04 16:00:00</td>\n      <td>14725,14751,14781,14808,14817,14830,14932,1493...</td>\n      <td>34.0</td>\n      <td>114.182553</td>\n      <td>22.325685</td>\n      <td>114.182552607391</td>\n      <td>22.325685286671</td>\n    </tr>\n    <tr>\n      <th>55659</th>\n      <td>[114.182552607391, 22.325685286671]</td>\n      <td>NaN</td>\n      <td>NaN</td>\n      <td>2022-02-05 16:00:00</td>\n      <td>NaN</td>\n      <td>NaN</td>\n      <td>2022-02-05 16:00:00</td>\n      <td>15073,15076,15078,15083,15085,15087,15088,1509...</td>\n      <td>50.0</td>\n      <td>114.182553</td>\n      <td>22.325685</td>\n      <td>114.182552607391</td>\n      <td>22.325685286671</td>\n    </tr>\n    <tr>\n      <th>55660</th>\n      <td>[114.182552607391, 22.325685286671]</td>\n      <td>NaN</td>\n      <td>NaN</td>\n      <td>2022-02-05 16:00:00</td>\n      <td>NaN</td>\n      <td>NaN</td>\n      <td>2022-02-05 16:00:00</td>\n      <td>15235,15237,15240,15242,15243,15245,15247,1524...</td>\n      <td>50.0</td>\n      <td>114.182553</td>\n      <td>22.325685</td>\n      <td>114.182552607391</td>\n      <td>22.325685286671</td>\n    </tr>\n    <tr>\n      <th>55661</th>\n      <td>[114.182552607391, 22.325685286671]</td>\n      <td>NaN</td>\n      <td>NaN</td>\n      <td>2022-02-05 16:00:00</td>\n      <td>NaN</td>\n      <td>NaN</td>\n      <td>2022-02-05 16:00:00</td>\n      <td>15371,15373,15375,15377,15378,15379,15380,1538...</td>\n      <td>47.0</td>\n      <td>114.182553</td>\n      <td>22.325685</td>\n      <td>114.182552607391</td>\n      <td>22.325685286671</td>\n    </tr>\n    <tr>\n      <th>55662</th>\n      <td>[114.182552607391, 22.325685286671]</td>\n      <td>NaN</td>\n      <td>NaN</td>\n      <td>2022-01-27 16:00:00</td>\n      <td>NaN</td>\n      <td>NaN</td>\n      <td>2022-01-27 16:00:00</td>\n      <td>97074</td>\n      <td>1.0</td>\n      <td>114.182553</td>\n      <td>22.325685</td>\n      <td>114.182552607391</td>\n      <td>22.325685286671</td>\n    </tr>\n  </tbody>\n</table>\n<p>55663 rows × 13 columns</p>\n</div>"
     },
     "execution_count": 311,
     "metadata": {},
     "output_type": "execute_result"
    }
   ],
   "source": [
    "start = time.time()\n",
    "hk_covid[['lang', 'lati']] = (hk_covid['coordinates'].str.strip('[] ').str.split(', ').apply(lambda x: pd.Series(x)))\n",
    "end = time.time()\n",
    "print(\"data consuming is \", end - start)\n",
    "hk_covid"
   ],
   "metadata": {
    "collapsed": false,
    "pycharm": {
     "name": "#%%\n"
    }
   }
  },
  {
   "cell_type": "markdown",
   "source": [
    "3. Do calculation by using pivot"
   ],
   "metadata": {
    "collapsed": false,
    "pycharm": {
     "name": "#%% md\n"
    }
   }
  },
  {
   "cell_type": "code",
   "execution_count": 212,
   "outputs": [
    {
     "data": {
      "text/plain": "         id  year  month element    d1    d2    d3    d4    d5    d6  ...  \\\n0   MX17004  2010      1    tmax   NaN   NaN   NaN   NaN   NaN   NaN  ...   \n1   MX17004  2010      1    tmin   NaN   NaN   NaN   NaN   NaN   NaN  ...   \n2   MX17004  2010      2    tmax   NaN  27.3  24.1   NaN   NaN   NaN  ...   \n3   MX17004  2010      2    tmin   NaN  14.4  14.4   NaN   NaN   NaN  ...   \n4   MX17004  2010      3    tmax   NaN   NaN   NaN   NaN  32.1   NaN  ...   \n5   MX17004  2010      3    tmin   NaN   NaN   NaN   NaN  14.2   NaN  ...   \n6   MX17004  2010      4    tmax   NaN   NaN   NaN   NaN   NaN   NaN  ...   \n7   MX17004  2010      4    tmin   NaN   NaN   NaN   NaN   NaN   NaN  ...   \n8   MX17004  2010      5    tmax   NaN   NaN   NaN   NaN   NaN   NaN  ...   \n9   MX17004  2010      5    tmin   NaN   NaN   NaN   NaN   NaN   NaN  ...   \n10  MX17004  2010      6    tmax   NaN   NaN   NaN   NaN   NaN   NaN  ...   \n11  MX17004  2010      6    tmin   NaN   NaN   NaN   NaN   NaN   NaN  ...   \n12  MX17004  2010      7    tmax   NaN   NaN  28.6   NaN   NaN   NaN  ...   \n13  MX17004  2010      7    tmin   NaN   NaN  17.5   NaN   NaN   NaN  ...   \n14  MX17004  2010      8    tmax   NaN   NaN   NaN   NaN  29.6   NaN  ...   \n15  MX17004  2010      8    tmin   NaN   NaN   NaN   NaN  15.8   NaN  ...   \n16  MX17004  2010     10    tmax   NaN   NaN   NaN   NaN  27.0   NaN  ...   \n17  MX17004  2010     10    tmin   NaN   NaN   NaN   NaN  14.0   NaN  ...   \n18  MX17004  2010     11    tmax   NaN  31.3   NaN  27.2  26.3   NaN  ...   \n19  MX17004  2010     11    tmin   NaN  16.3   NaN  12.0   7.9   NaN  ...   \n20  MX17004  2010     12    tmax  29.9   NaN   NaN   NaN   NaN  27.8  ...   \n21  MX17004  2010     12    tmin  13.8   NaN   NaN   NaN   NaN  10.5  ...   \n\n    d22   d23  d24   d25   d26   d27   d28   d29   d30   d31  \n0   NaN   NaN  NaN   NaN   NaN   NaN   NaN   NaN  27.8   NaN  \n1   NaN   NaN  NaN   NaN   NaN   NaN   NaN   NaN  14.5   NaN  \n2   NaN  29.9  NaN   NaN   NaN   NaN   NaN   NaN   NaN   NaN  \n3   NaN  10.7  NaN   NaN   NaN   NaN   NaN   NaN   NaN   NaN  \n4   NaN   NaN  NaN   NaN   NaN   NaN   NaN   NaN   NaN   NaN  \n5   NaN   NaN  NaN   NaN   NaN   NaN   NaN   NaN   NaN   NaN  \n6   NaN   NaN  NaN   NaN   NaN  36.3   NaN   NaN   NaN   NaN  \n7   NaN   NaN  NaN   NaN   NaN  16.7   NaN   NaN   NaN   NaN  \n8   NaN   NaN  NaN   NaN   NaN  33.2   NaN   NaN   NaN   NaN  \n9   NaN   NaN  NaN   NaN   NaN  18.2   NaN   NaN   NaN   NaN  \n10  NaN   NaN  NaN   NaN   NaN   NaN   NaN  30.1   NaN   NaN  \n11  NaN   NaN  NaN   NaN   NaN   NaN   NaN  18.0   NaN   NaN  \n12  NaN   NaN  NaN   NaN   NaN   NaN   NaN   NaN   NaN   NaN  \n13  NaN   NaN  NaN   NaN   NaN   NaN   NaN   NaN   NaN   NaN  \n14  NaN  26.4  NaN  29.7   NaN   NaN   NaN  28.0   NaN  25.4  \n15  NaN  15.0  NaN  15.6   NaN   NaN   NaN  15.3   NaN  15.4  \n16  NaN   NaN  NaN   NaN   NaN   NaN  31.2   NaN   NaN   NaN  \n17  NaN   NaN  NaN   NaN   NaN   NaN  15.0   NaN   NaN   NaN  \n18  NaN   NaN  NaN   NaN  28.1  27.7   NaN   NaN   NaN   NaN  \n19  NaN   NaN  NaN   NaN  12.1  14.2   NaN   NaN   NaN   NaN  \n20  NaN   NaN  NaN   NaN   NaN   NaN   NaN   NaN   NaN   NaN  \n21  NaN   NaN  NaN   NaN   NaN   NaN   NaN   NaN   NaN   NaN  \n\n[22 rows x 35 columns]",
      "text/html": "<div>\n<style scoped>\n    .dataframe tbody tr th:only-of-type {\n        vertical-align: middle;\n    }\n\n    .dataframe tbody tr th {\n        vertical-align: top;\n    }\n\n    .dataframe thead th {\n        text-align: right;\n    }\n</style>\n<table border=\"1\" class=\"dataframe\">\n  <thead>\n    <tr style=\"text-align: right;\">\n      <th></th>\n      <th>id</th>\n      <th>year</th>\n      <th>month</th>\n      <th>element</th>\n      <th>d1</th>\n      <th>d2</th>\n      <th>d3</th>\n      <th>d4</th>\n      <th>d5</th>\n      <th>d6</th>\n      <th>...</th>\n      <th>d22</th>\n      <th>d23</th>\n      <th>d24</th>\n      <th>d25</th>\n      <th>d26</th>\n      <th>d27</th>\n      <th>d28</th>\n      <th>d29</th>\n      <th>d30</th>\n      <th>d31</th>\n    </tr>\n  </thead>\n  <tbody>\n    <tr>\n      <th>0</th>\n      <td>MX17004</td>\n      <td>2010</td>\n      <td>1</td>\n      <td>tmax</td>\n      <td>NaN</td>\n      <td>NaN</td>\n      <td>NaN</td>\n      <td>NaN</td>\n      <td>NaN</td>\n      <td>NaN</td>\n      <td>...</td>\n      <td>NaN</td>\n      <td>NaN</td>\n      <td>NaN</td>\n      <td>NaN</td>\n      <td>NaN</td>\n      <td>NaN</td>\n      <td>NaN</td>\n      <td>NaN</td>\n      <td>27.8</td>\n      <td>NaN</td>\n    </tr>\n    <tr>\n      <th>1</th>\n      <td>MX17004</td>\n      <td>2010</td>\n      <td>1</td>\n      <td>tmin</td>\n      <td>NaN</td>\n      <td>NaN</td>\n      <td>NaN</td>\n      <td>NaN</td>\n      <td>NaN</td>\n      <td>NaN</td>\n      <td>...</td>\n      <td>NaN</td>\n      <td>NaN</td>\n      <td>NaN</td>\n      <td>NaN</td>\n      <td>NaN</td>\n      <td>NaN</td>\n      <td>NaN</td>\n      <td>NaN</td>\n      <td>14.5</td>\n      <td>NaN</td>\n    </tr>\n    <tr>\n      <th>2</th>\n      <td>MX17004</td>\n      <td>2010</td>\n      <td>2</td>\n      <td>tmax</td>\n      <td>NaN</td>\n      <td>27.3</td>\n      <td>24.1</td>\n      <td>NaN</td>\n      <td>NaN</td>\n      <td>NaN</td>\n      <td>...</td>\n      <td>NaN</td>\n      <td>29.9</td>\n      <td>NaN</td>\n      <td>NaN</td>\n      <td>NaN</td>\n      <td>NaN</td>\n      <td>NaN</td>\n      <td>NaN</td>\n      <td>NaN</td>\n      <td>NaN</td>\n    </tr>\n    <tr>\n      <th>3</th>\n      <td>MX17004</td>\n      <td>2010</td>\n      <td>2</td>\n      <td>tmin</td>\n      <td>NaN</td>\n      <td>14.4</td>\n      <td>14.4</td>\n      <td>NaN</td>\n      <td>NaN</td>\n      <td>NaN</td>\n      <td>...</td>\n      <td>NaN</td>\n      <td>10.7</td>\n      <td>NaN</td>\n      <td>NaN</td>\n      <td>NaN</td>\n      <td>NaN</td>\n      <td>NaN</td>\n      <td>NaN</td>\n      <td>NaN</td>\n      <td>NaN</td>\n    </tr>\n    <tr>\n      <th>4</th>\n      <td>MX17004</td>\n      <td>2010</td>\n      <td>3</td>\n      <td>tmax</td>\n      <td>NaN</td>\n      <td>NaN</td>\n      <td>NaN</td>\n      <td>NaN</td>\n      <td>32.1</td>\n      <td>NaN</td>\n      <td>...</td>\n      <td>NaN</td>\n      <td>NaN</td>\n      <td>NaN</td>\n      <td>NaN</td>\n      <td>NaN</td>\n      <td>NaN</td>\n      <td>NaN</td>\n      <td>NaN</td>\n      <td>NaN</td>\n      <td>NaN</td>\n    </tr>\n    <tr>\n      <th>5</th>\n      <td>MX17004</td>\n      <td>2010</td>\n      <td>3</td>\n      <td>tmin</td>\n      <td>NaN</td>\n      <td>NaN</td>\n      <td>NaN</td>\n      <td>NaN</td>\n      <td>14.2</td>\n      <td>NaN</td>\n      <td>...</td>\n      <td>NaN</td>\n      <td>NaN</td>\n      <td>NaN</td>\n      <td>NaN</td>\n      <td>NaN</td>\n      <td>NaN</td>\n      <td>NaN</td>\n      <td>NaN</td>\n      <td>NaN</td>\n      <td>NaN</td>\n    </tr>\n    <tr>\n      <th>6</th>\n      <td>MX17004</td>\n      <td>2010</td>\n      <td>4</td>\n      <td>tmax</td>\n      <td>NaN</td>\n      <td>NaN</td>\n      <td>NaN</td>\n      <td>NaN</td>\n      <td>NaN</td>\n      <td>NaN</td>\n      <td>...</td>\n      <td>NaN</td>\n      <td>NaN</td>\n      <td>NaN</td>\n      <td>NaN</td>\n      <td>NaN</td>\n      <td>36.3</td>\n      <td>NaN</td>\n      <td>NaN</td>\n      <td>NaN</td>\n      <td>NaN</td>\n    </tr>\n    <tr>\n      <th>7</th>\n      <td>MX17004</td>\n      <td>2010</td>\n      <td>4</td>\n      <td>tmin</td>\n      <td>NaN</td>\n      <td>NaN</td>\n      <td>NaN</td>\n      <td>NaN</td>\n      <td>NaN</td>\n      <td>NaN</td>\n      <td>...</td>\n      <td>NaN</td>\n      <td>NaN</td>\n      <td>NaN</td>\n      <td>NaN</td>\n      <td>NaN</td>\n      <td>16.7</td>\n      <td>NaN</td>\n      <td>NaN</td>\n      <td>NaN</td>\n      <td>NaN</td>\n    </tr>\n    <tr>\n      <th>8</th>\n      <td>MX17004</td>\n      <td>2010</td>\n      <td>5</td>\n      <td>tmax</td>\n      <td>NaN</td>\n      <td>NaN</td>\n      <td>NaN</td>\n      <td>NaN</td>\n      <td>NaN</td>\n      <td>NaN</td>\n      <td>...</td>\n      <td>NaN</td>\n      <td>NaN</td>\n      <td>NaN</td>\n      <td>NaN</td>\n      <td>NaN</td>\n      <td>33.2</td>\n      <td>NaN</td>\n      <td>NaN</td>\n      <td>NaN</td>\n      <td>NaN</td>\n    </tr>\n    <tr>\n      <th>9</th>\n      <td>MX17004</td>\n      <td>2010</td>\n      <td>5</td>\n      <td>tmin</td>\n      <td>NaN</td>\n      <td>NaN</td>\n      <td>NaN</td>\n      <td>NaN</td>\n      <td>NaN</td>\n      <td>NaN</td>\n      <td>...</td>\n      <td>NaN</td>\n      <td>NaN</td>\n      <td>NaN</td>\n      <td>NaN</td>\n      <td>NaN</td>\n      <td>18.2</td>\n      <td>NaN</td>\n      <td>NaN</td>\n      <td>NaN</td>\n      <td>NaN</td>\n    </tr>\n    <tr>\n      <th>10</th>\n      <td>MX17004</td>\n      <td>2010</td>\n      <td>6</td>\n      <td>tmax</td>\n      <td>NaN</td>\n      <td>NaN</td>\n      <td>NaN</td>\n      <td>NaN</td>\n      <td>NaN</td>\n      <td>NaN</td>\n      <td>...</td>\n      <td>NaN</td>\n      <td>NaN</td>\n      <td>NaN</td>\n      <td>NaN</td>\n      <td>NaN</td>\n      <td>NaN</td>\n      <td>NaN</td>\n      <td>30.1</td>\n      <td>NaN</td>\n      <td>NaN</td>\n    </tr>\n    <tr>\n      <th>11</th>\n      <td>MX17004</td>\n      <td>2010</td>\n      <td>6</td>\n      <td>tmin</td>\n      <td>NaN</td>\n      <td>NaN</td>\n      <td>NaN</td>\n      <td>NaN</td>\n      <td>NaN</td>\n      <td>NaN</td>\n      <td>...</td>\n      <td>NaN</td>\n      <td>NaN</td>\n      <td>NaN</td>\n      <td>NaN</td>\n      <td>NaN</td>\n      <td>NaN</td>\n      <td>NaN</td>\n      <td>18.0</td>\n      <td>NaN</td>\n      <td>NaN</td>\n    </tr>\n    <tr>\n      <th>12</th>\n      <td>MX17004</td>\n      <td>2010</td>\n      <td>7</td>\n      <td>tmax</td>\n      <td>NaN</td>\n      <td>NaN</td>\n      <td>28.6</td>\n      <td>NaN</td>\n      <td>NaN</td>\n      <td>NaN</td>\n      <td>...</td>\n      <td>NaN</td>\n      <td>NaN</td>\n      <td>NaN</td>\n      <td>NaN</td>\n      <td>NaN</td>\n      <td>NaN</td>\n      <td>NaN</td>\n      <td>NaN</td>\n      <td>NaN</td>\n      <td>NaN</td>\n    </tr>\n    <tr>\n      <th>13</th>\n      <td>MX17004</td>\n      <td>2010</td>\n      <td>7</td>\n      <td>tmin</td>\n      <td>NaN</td>\n      <td>NaN</td>\n      <td>17.5</td>\n      <td>NaN</td>\n      <td>NaN</td>\n      <td>NaN</td>\n      <td>...</td>\n      <td>NaN</td>\n      <td>NaN</td>\n      <td>NaN</td>\n      <td>NaN</td>\n      <td>NaN</td>\n      <td>NaN</td>\n      <td>NaN</td>\n      <td>NaN</td>\n      <td>NaN</td>\n      <td>NaN</td>\n    </tr>\n    <tr>\n      <th>14</th>\n      <td>MX17004</td>\n      <td>2010</td>\n      <td>8</td>\n      <td>tmax</td>\n      <td>NaN</td>\n      <td>NaN</td>\n      <td>NaN</td>\n      <td>NaN</td>\n      <td>29.6</td>\n      <td>NaN</td>\n      <td>...</td>\n      <td>NaN</td>\n      <td>26.4</td>\n      <td>NaN</td>\n      <td>29.7</td>\n      <td>NaN</td>\n      <td>NaN</td>\n      <td>NaN</td>\n      <td>28.0</td>\n      <td>NaN</td>\n      <td>25.4</td>\n    </tr>\n    <tr>\n      <th>15</th>\n      <td>MX17004</td>\n      <td>2010</td>\n      <td>8</td>\n      <td>tmin</td>\n      <td>NaN</td>\n      <td>NaN</td>\n      <td>NaN</td>\n      <td>NaN</td>\n      <td>15.8</td>\n      <td>NaN</td>\n      <td>...</td>\n      <td>NaN</td>\n      <td>15.0</td>\n      <td>NaN</td>\n      <td>15.6</td>\n      <td>NaN</td>\n      <td>NaN</td>\n      <td>NaN</td>\n      <td>15.3</td>\n      <td>NaN</td>\n      <td>15.4</td>\n    </tr>\n    <tr>\n      <th>16</th>\n      <td>MX17004</td>\n      <td>2010</td>\n      <td>10</td>\n      <td>tmax</td>\n      <td>NaN</td>\n      <td>NaN</td>\n      <td>NaN</td>\n      <td>NaN</td>\n      <td>27.0</td>\n      <td>NaN</td>\n      <td>...</td>\n      <td>NaN</td>\n      <td>NaN</td>\n      <td>NaN</td>\n      <td>NaN</td>\n      <td>NaN</td>\n      <td>NaN</td>\n      <td>31.2</td>\n      <td>NaN</td>\n      <td>NaN</td>\n      <td>NaN</td>\n    </tr>\n    <tr>\n      <th>17</th>\n      <td>MX17004</td>\n      <td>2010</td>\n      <td>10</td>\n      <td>tmin</td>\n      <td>NaN</td>\n      <td>NaN</td>\n      <td>NaN</td>\n      <td>NaN</td>\n      <td>14.0</td>\n      <td>NaN</td>\n      <td>...</td>\n      <td>NaN</td>\n      <td>NaN</td>\n      <td>NaN</td>\n      <td>NaN</td>\n      <td>NaN</td>\n      <td>NaN</td>\n      <td>15.0</td>\n      <td>NaN</td>\n      <td>NaN</td>\n      <td>NaN</td>\n    </tr>\n    <tr>\n      <th>18</th>\n      <td>MX17004</td>\n      <td>2010</td>\n      <td>11</td>\n      <td>tmax</td>\n      <td>NaN</td>\n      <td>31.3</td>\n      <td>NaN</td>\n      <td>27.2</td>\n      <td>26.3</td>\n      <td>NaN</td>\n      <td>...</td>\n      <td>NaN</td>\n      <td>NaN</td>\n      <td>NaN</td>\n      <td>NaN</td>\n      <td>28.1</td>\n      <td>27.7</td>\n      <td>NaN</td>\n      <td>NaN</td>\n      <td>NaN</td>\n      <td>NaN</td>\n    </tr>\n    <tr>\n      <th>19</th>\n      <td>MX17004</td>\n      <td>2010</td>\n      <td>11</td>\n      <td>tmin</td>\n      <td>NaN</td>\n      <td>16.3</td>\n      <td>NaN</td>\n      <td>12.0</td>\n      <td>7.9</td>\n      <td>NaN</td>\n      <td>...</td>\n      <td>NaN</td>\n      <td>NaN</td>\n      <td>NaN</td>\n      <td>NaN</td>\n      <td>12.1</td>\n      <td>14.2</td>\n      <td>NaN</td>\n      <td>NaN</td>\n      <td>NaN</td>\n      <td>NaN</td>\n    </tr>\n    <tr>\n      <th>20</th>\n      <td>MX17004</td>\n      <td>2010</td>\n      <td>12</td>\n      <td>tmax</td>\n      <td>29.9</td>\n      <td>NaN</td>\n      <td>NaN</td>\n      <td>NaN</td>\n      <td>NaN</td>\n      <td>27.8</td>\n      <td>...</td>\n      <td>NaN</td>\n      <td>NaN</td>\n      <td>NaN</td>\n      <td>NaN</td>\n      <td>NaN</td>\n      <td>NaN</td>\n      <td>NaN</td>\n      <td>NaN</td>\n      <td>NaN</td>\n      <td>NaN</td>\n    </tr>\n    <tr>\n      <th>21</th>\n      <td>MX17004</td>\n      <td>2010</td>\n      <td>12</td>\n      <td>tmin</td>\n      <td>13.8</td>\n      <td>NaN</td>\n      <td>NaN</td>\n      <td>NaN</td>\n      <td>NaN</td>\n      <td>10.5</td>\n      <td>...</td>\n      <td>NaN</td>\n      <td>NaN</td>\n      <td>NaN</td>\n      <td>NaN</td>\n      <td>NaN</td>\n      <td>NaN</td>\n      <td>NaN</td>\n      <td>NaN</td>\n      <td>NaN</td>\n      <td>NaN</td>\n    </tr>\n  </tbody>\n</table>\n<p>22 rows × 35 columns</p>\n</div>"
     },
     "execution_count": 212,
     "metadata": {},
     "output_type": "execute_result"
    }
   ],
   "source": [
    "weather = pd.read_csv('../data/weather.csv')\n",
    "weather"
   ],
   "metadata": {
    "collapsed": false,
    "pycharm": {
     "name": "#%%\n"
    }
   }
  },
  {
   "cell_type": "code",
   "execution_count": 213,
   "outputs": [
    {
     "data": {
      "text/plain": "          id  year  month element  day  temperature\n0    MX17004  2010      1    tmax   d1          NaN\n1    MX17004  2010      1    tmin   d1          NaN\n2    MX17004  2010      2    tmax   d1          NaN\n3    MX17004  2010      2    tmin   d1          NaN\n4    MX17004  2010      3    tmax   d1          NaN\n..       ...   ...    ...     ...  ...          ...\n677  MX17004  2010     10    tmin  d31          NaN\n678  MX17004  2010     11    tmax  d31          NaN\n679  MX17004  2010     11    tmin  d31          NaN\n680  MX17004  2010     12    tmax  d31          NaN\n681  MX17004  2010     12    tmin  d31          NaN\n\n[682 rows x 6 columns]",
      "text/html": "<div>\n<style scoped>\n    .dataframe tbody tr th:only-of-type {\n        vertical-align: middle;\n    }\n\n    .dataframe tbody tr th {\n        vertical-align: top;\n    }\n\n    .dataframe thead th {\n        text-align: right;\n    }\n</style>\n<table border=\"1\" class=\"dataframe\">\n  <thead>\n    <tr style=\"text-align: right;\">\n      <th></th>\n      <th>id</th>\n      <th>year</th>\n      <th>month</th>\n      <th>element</th>\n      <th>day</th>\n      <th>temperature</th>\n    </tr>\n  </thead>\n  <tbody>\n    <tr>\n      <th>0</th>\n      <td>MX17004</td>\n      <td>2010</td>\n      <td>1</td>\n      <td>tmax</td>\n      <td>d1</td>\n      <td>NaN</td>\n    </tr>\n    <tr>\n      <th>1</th>\n      <td>MX17004</td>\n      <td>2010</td>\n      <td>1</td>\n      <td>tmin</td>\n      <td>d1</td>\n      <td>NaN</td>\n    </tr>\n    <tr>\n      <th>2</th>\n      <td>MX17004</td>\n      <td>2010</td>\n      <td>2</td>\n      <td>tmax</td>\n      <td>d1</td>\n      <td>NaN</td>\n    </tr>\n    <tr>\n      <th>3</th>\n      <td>MX17004</td>\n      <td>2010</td>\n      <td>2</td>\n      <td>tmin</td>\n      <td>d1</td>\n      <td>NaN</td>\n    </tr>\n    <tr>\n      <th>4</th>\n      <td>MX17004</td>\n      <td>2010</td>\n      <td>3</td>\n      <td>tmax</td>\n      <td>d1</td>\n      <td>NaN</td>\n    </tr>\n    <tr>\n      <th>...</th>\n      <td>...</td>\n      <td>...</td>\n      <td>...</td>\n      <td>...</td>\n      <td>...</td>\n      <td>...</td>\n    </tr>\n    <tr>\n      <th>677</th>\n      <td>MX17004</td>\n      <td>2010</td>\n      <td>10</td>\n      <td>tmin</td>\n      <td>d31</td>\n      <td>NaN</td>\n    </tr>\n    <tr>\n      <th>678</th>\n      <td>MX17004</td>\n      <td>2010</td>\n      <td>11</td>\n      <td>tmax</td>\n      <td>d31</td>\n      <td>NaN</td>\n    </tr>\n    <tr>\n      <th>679</th>\n      <td>MX17004</td>\n      <td>2010</td>\n      <td>11</td>\n      <td>tmin</td>\n      <td>d31</td>\n      <td>NaN</td>\n    </tr>\n    <tr>\n      <th>680</th>\n      <td>MX17004</td>\n      <td>2010</td>\n      <td>12</td>\n      <td>tmax</td>\n      <td>d31</td>\n      <td>NaN</td>\n    </tr>\n    <tr>\n      <th>681</th>\n      <td>MX17004</td>\n      <td>2010</td>\n      <td>12</td>\n      <td>tmin</td>\n      <td>d31</td>\n      <td>NaN</td>\n    </tr>\n  </tbody>\n</table>\n<p>682 rows × 6 columns</p>\n</div>"
     },
     "execution_count": 213,
     "metadata": {},
     "output_type": "execute_result"
    }
   ],
   "source": [
    "weather_melt = weather.melt(id_vars=['id', 'year', 'month', 'element'],\n",
    "                            var_name='day',\n",
    "                            value_name='temperature')\n",
    "weather_melt"
   ],
   "metadata": {
    "collapsed": false,
    "pycharm": {
     "name": "#%%\n"
    }
   }
  },
  {
   "cell_type": "markdown",
   "source": [],
   "metadata": {
    "collapsed": false,
    "pycharm": {
     "name": "#%% md\n"
    }
   }
  },
  {
   "cell_type": "code",
   "execution_count": 214,
   "outputs": [
    {
     "data": {
      "text/plain": "          id  year  month element day  temperature\n2    MX17004  2010      2    tmax  d1          NaN\n3    MX17004  2010      2    tmin  d1          NaN\n682  MX14004  2010      2    tmax  d1         23.2",
      "text/html": "<div>\n<style scoped>\n    .dataframe tbody tr th:only-of-type {\n        vertical-align: middle;\n    }\n\n    .dataframe tbody tr th {\n        vertical-align: top;\n    }\n\n    .dataframe thead th {\n        text-align: right;\n    }\n</style>\n<table border=\"1\" class=\"dataframe\">\n  <thead>\n    <tr style=\"text-align: right;\">\n      <th></th>\n      <th>id</th>\n      <th>year</th>\n      <th>month</th>\n      <th>element</th>\n      <th>day</th>\n      <th>temperature</th>\n    </tr>\n  </thead>\n  <tbody>\n    <tr>\n      <th>2</th>\n      <td>MX17004</td>\n      <td>2010</td>\n      <td>2</td>\n      <td>tmax</td>\n      <td>d1</td>\n      <td>NaN</td>\n    </tr>\n    <tr>\n      <th>3</th>\n      <td>MX17004</td>\n      <td>2010</td>\n      <td>2</td>\n      <td>tmin</td>\n      <td>d1</td>\n      <td>NaN</td>\n    </tr>\n    <tr>\n      <th>682</th>\n      <td>MX14004</td>\n      <td>2010</td>\n      <td>2</td>\n      <td>tmax</td>\n      <td>d1</td>\n      <td>23.2</td>\n    </tr>\n  </tbody>\n</table>\n</div>"
     },
     "execution_count": 214,
     "metadata": {},
     "output_type": "execute_result"
    }
   ],
   "source": [
    "weather_melt = weather_melt.append({'id': 'MX14004', 'year': 2010, 'month': 2, 'element': 'tmax', 'day': 'd1', 'temperature': 23.2},\n",
    "                    ignore_index=True)\n",
    "weather_melt.loc[(weather_melt['year'] == 2010) & (weather_melt['month'] == 2) & (weather_melt['day'] == 'd1')]"
   ],
   "metadata": {
    "collapsed": false,
    "pycharm": {
     "name": "#%%\n"
    }
   }
  },
  {
   "cell_type": "code",
   "execution_count": 230,
   "outputs": [
    {
     "data": {
      "text/plain": "element       id  year  month  day  tmax  tmin\n0        MX14004  2010      2   d1  23.2   NaN\n1        MX17004  2010      1  d30  27.8  14.5\n2        MX17004  2010      2  d11  29.7  13.4\n3        MX17004  2010      2   d2  27.3  14.4\n4        MX17004  2010      2  d23  29.9  10.7\n5        MX17004  2010      2   d3  24.1  14.4\n6        MX17004  2010      3  d10  34.5  16.8\n7        MX17004  2010      3  d16  31.1  17.6\n8        MX17004  2010      3   d5  32.1  14.2\n9        MX17004  2010      4  d27  36.3  16.7\n10       MX17004  2010      5  d27  33.2  18.2\n11       MX17004  2010      6  d17  28.0  17.5\n12       MX17004  2010      6  d29  30.1  18.0\n13       MX17004  2010      7   d3  28.6  17.5\n14       MX17004  2010      7  d14  29.9  16.5\n15       MX17004  2010      8  d23  26.4  15.0\n16       MX17004  2010      8   d5  29.6  15.8\n17       MX17004  2010      8  d29  28.0  15.3\n18       MX17004  2010      8  d13  29.8  16.5\n19       MX17004  2010      8  d25  29.7  15.6\n20       MX17004  2010      8  d31  25.4  15.4\n21       MX17004  2010      8   d8  29.0  17.3\n22       MX17004  2010     10   d5  27.0  14.0\n23       MX17004  2010     10  d14  29.5  13.0\n24       MX17004  2010     10  d15  28.7  10.5\n25       MX17004  2010     10  d28  31.2  15.0\n26       MX17004  2010     10   d7  28.1  12.9\n27       MX17004  2010     11   d2  31.3  16.3\n28       MX17004  2010     11   d5  26.3   7.9\n29       MX17004  2010     11  d27  27.7  14.2\n30       MX17004  2010     11  d26  28.1  12.1\n31       MX17004  2010     11   d4  27.2  12.0\n32       MX17004  2010     12   d1  29.9  13.8\n33       MX17004  2010     12   d6  27.8  10.5",
      "text/html": "<div>\n<style scoped>\n    .dataframe tbody tr th:only-of-type {\n        vertical-align: middle;\n    }\n\n    .dataframe tbody tr th {\n        vertical-align: top;\n    }\n\n    .dataframe thead th {\n        text-align: right;\n    }\n</style>\n<table border=\"1\" class=\"dataframe\">\n  <thead>\n    <tr style=\"text-align: right;\">\n      <th>element</th>\n      <th>id</th>\n      <th>year</th>\n      <th>month</th>\n      <th>day</th>\n      <th>tmax</th>\n      <th>tmin</th>\n    </tr>\n  </thead>\n  <tbody>\n    <tr>\n      <th>0</th>\n      <td>MX14004</td>\n      <td>2010</td>\n      <td>2</td>\n      <td>d1</td>\n      <td>23.2</td>\n      <td>NaN</td>\n    </tr>\n    <tr>\n      <th>1</th>\n      <td>MX17004</td>\n      <td>2010</td>\n      <td>1</td>\n      <td>d30</td>\n      <td>27.8</td>\n      <td>14.5</td>\n    </tr>\n    <tr>\n      <th>2</th>\n      <td>MX17004</td>\n      <td>2010</td>\n      <td>2</td>\n      <td>d11</td>\n      <td>29.7</td>\n      <td>13.4</td>\n    </tr>\n    <tr>\n      <th>3</th>\n      <td>MX17004</td>\n      <td>2010</td>\n      <td>2</td>\n      <td>d2</td>\n      <td>27.3</td>\n      <td>14.4</td>\n    </tr>\n    <tr>\n      <th>4</th>\n      <td>MX17004</td>\n      <td>2010</td>\n      <td>2</td>\n      <td>d23</td>\n      <td>29.9</td>\n      <td>10.7</td>\n    </tr>\n    <tr>\n      <th>5</th>\n      <td>MX17004</td>\n      <td>2010</td>\n      <td>2</td>\n      <td>d3</td>\n      <td>24.1</td>\n      <td>14.4</td>\n    </tr>\n    <tr>\n      <th>6</th>\n      <td>MX17004</td>\n      <td>2010</td>\n      <td>3</td>\n      <td>d10</td>\n      <td>34.5</td>\n      <td>16.8</td>\n    </tr>\n    <tr>\n      <th>7</th>\n      <td>MX17004</td>\n      <td>2010</td>\n      <td>3</td>\n      <td>d16</td>\n      <td>31.1</td>\n      <td>17.6</td>\n    </tr>\n    <tr>\n      <th>8</th>\n      <td>MX17004</td>\n      <td>2010</td>\n      <td>3</td>\n      <td>d5</td>\n      <td>32.1</td>\n      <td>14.2</td>\n    </tr>\n    <tr>\n      <th>9</th>\n      <td>MX17004</td>\n      <td>2010</td>\n      <td>4</td>\n      <td>d27</td>\n      <td>36.3</td>\n      <td>16.7</td>\n    </tr>\n    <tr>\n      <th>10</th>\n      <td>MX17004</td>\n      <td>2010</td>\n      <td>5</td>\n      <td>d27</td>\n      <td>33.2</td>\n      <td>18.2</td>\n    </tr>\n    <tr>\n      <th>11</th>\n      <td>MX17004</td>\n      <td>2010</td>\n      <td>6</td>\n      <td>d17</td>\n      <td>28.0</td>\n      <td>17.5</td>\n    </tr>\n    <tr>\n      <th>12</th>\n      <td>MX17004</td>\n      <td>2010</td>\n      <td>6</td>\n      <td>d29</td>\n      <td>30.1</td>\n      <td>18.0</td>\n    </tr>\n    <tr>\n      <th>13</th>\n      <td>MX17004</td>\n      <td>2010</td>\n      <td>7</td>\n      <td>d3</td>\n      <td>28.6</td>\n      <td>17.5</td>\n    </tr>\n    <tr>\n      <th>14</th>\n      <td>MX17004</td>\n      <td>2010</td>\n      <td>7</td>\n      <td>d14</td>\n      <td>29.9</td>\n      <td>16.5</td>\n    </tr>\n    <tr>\n      <th>15</th>\n      <td>MX17004</td>\n      <td>2010</td>\n      <td>8</td>\n      <td>d23</td>\n      <td>26.4</td>\n      <td>15.0</td>\n    </tr>\n    <tr>\n      <th>16</th>\n      <td>MX17004</td>\n      <td>2010</td>\n      <td>8</td>\n      <td>d5</td>\n      <td>29.6</td>\n      <td>15.8</td>\n    </tr>\n    <tr>\n      <th>17</th>\n      <td>MX17004</td>\n      <td>2010</td>\n      <td>8</td>\n      <td>d29</td>\n      <td>28.0</td>\n      <td>15.3</td>\n    </tr>\n    <tr>\n      <th>18</th>\n      <td>MX17004</td>\n      <td>2010</td>\n      <td>8</td>\n      <td>d13</td>\n      <td>29.8</td>\n      <td>16.5</td>\n    </tr>\n    <tr>\n      <th>19</th>\n      <td>MX17004</td>\n      <td>2010</td>\n      <td>8</td>\n      <td>d25</td>\n      <td>29.7</td>\n      <td>15.6</td>\n    </tr>\n    <tr>\n      <th>20</th>\n      <td>MX17004</td>\n      <td>2010</td>\n      <td>8</td>\n      <td>d31</td>\n      <td>25.4</td>\n      <td>15.4</td>\n    </tr>\n    <tr>\n      <th>21</th>\n      <td>MX17004</td>\n      <td>2010</td>\n      <td>8</td>\n      <td>d8</td>\n      <td>29.0</td>\n      <td>17.3</td>\n    </tr>\n    <tr>\n      <th>22</th>\n      <td>MX17004</td>\n      <td>2010</td>\n      <td>10</td>\n      <td>d5</td>\n      <td>27.0</td>\n      <td>14.0</td>\n    </tr>\n    <tr>\n      <th>23</th>\n      <td>MX17004</td>\n      <td>2010</td>\n      <td>10</td>\n      <td>d14</td>\n      <td>29.5</td>\n      <td>13.0</td>\n    </tr>\n    <tr>\n      <th>24</th>\n      <td>MX17004</td>\n      <td>2010</td>\n      <td>10</td>\n      <td>d15</td>\n      <td>28.7</td>\n      <td>10.5</td>\n    </tr>\n    <tr>\n      <th>25</th>\n      <td>MX17004</td>\n      <td>2010</td>\n      <td>10</td>\n      <td>d28</td>\n      <td>31.2</td>\n      <td>15.0</td>\n    </tr>\n    <tr>\n      <th>26</th>\n      <td>MX17004</td>\n      <td>2010</td>\n      <td>10</td>\n      <td>d7</td>\n      <td>28.1</td>\n      <td>12.9</td>\n    </tr>\n    <tr>\n      <th>27</th>\n      <td>MX17004</td>\n      <td>2010</td>\n      <td>11</td>\n      <td>d2</td>\n      <td>31.3</td>\n      <td>16.3</td>\n    </tr>\n    <tr>\n      <th>28</th>\n      <td>MX17004</td>\n      <td>2010</td>\n      <td>11</td>\n      <td>d5</td>\n      <td>26.3</td>\n      <td>7.9</td>\n    </tr>\n    <tr>\n      <th>29</th>\n      <td>MX17004</td>\n      <td>2010</td>\n      <td>11</td>\n      <td>d27</td>\n      <td>27.7</td>\n      <td>14.2</td>\n    </tr>\n    <tr>\n      <th>30</th>\n      <td>MX17004</td>\n      <td>2010</td>\n      <td>11</td>\n      <td>d26</td>\n      <td>28.1</td>\n      <td>12.1</td>\n    </tr>\n    <tr>\n      <th>31</th>\n      <td>MX17004</td>\n      <td>2010</td>\n      <td>11</td>\n      <td>d4</td>\n      <td>27.2</td>\n      <td>12.0</td>\n    </tr>\n    <tr>\n      <th>32</th>\n      <td>MX17004</td>\n      <td>2010</td>\n      <td>12</td>\n      <td>d1</td>\n      <td>29.9</td>\n      <td>13.8</td>\n    </tr>\n    <tr>\n      <th>33</th>\n      <td>MX17004</td>\n      <td>2010</td>\n      <td>12</td>\n      <td>d6</td>\n      <td>27.8</td>\n      <td>10.5</td>\n    </tr>\n  </tbody>\n</table>\n</div>"
     },
     "execution_count": 230,
     "metadata": {},
     "output_type": "execute_result"
    }
   ],
   "source": [
    "weather_pivot = weather_melt.pivot_table(index=['id', 'year', 'month', 'day'],\n",
    "                                         columns='element',\n",
    "                                         values='temperature',\n",
    "                                         dropna=True,\n",
    "                                         aggfunc='max')\n",
    "weather_pivot.reset_index()"
   ],
   "metadata": {
    "collapsed": false,
    "pycharm": {
     "name": "#%%\n"
    }
   }
  },
  {
   "cell_type": "code",
   "execution_count": 230,
   "outputs": [],
   "source": [],
   "metadata": {
    "collapsed": false,
    "pycharm": {
     "name": "#%%\n"
    }
   }
  },
  {
   "cell_type": "code",
   "execution_count": 247,
   "outputs": [
    {
     "data": {
      "text/plain": "0    A_Str_Series\n1    he_is_a_hero\ndtype: object"
     },
     "execution_count": 247,
     "metadata": {},
     "output_type": "execute_result"
    }
   ],
   "source": [
    "s = pd.Series([\"A_Str_Series\", \"he_is_a_hero\"])\n",
    "s"
   ],
   "metadata": {
    "collapsed": false,
    "pycharm": {
     "name": "#%%\n"
    }
   }
  },
  {
   "cell_type": "code",
   "execution_count": 264,
   "outputs": [
    {
     "ename": "AttributeError",
     "evalue": "'Series' object has no attribute 'upper'",
     "output_type": "error",
     "traceback": [
      "\u001B[1;31m---------------------------------------------------------------------------\u001B[0m",
      "\u001B[1;31mAttributeError\u001B[0m                            Traceback (most recent call last)",
      "\u001B[1;32m<ipython-input-264-df1a5701a515>\u001B[0m in \u001B[0;36m<module>\u001B[1;34m\u001B[0m\n\u001B[1;32m----> 1\u001B[1;33m \u001B[0ms\u001B[0m\u001B[1;33m.\u001B[0m\u001B[0mstr\u001B[0m\u001B[1;33m.\u001B[0m\u001B[0msplit\u001B[0m\u001B[1;33m(\u001B[0m\u001B[1;34m'_'\u001B[0m\u001B[1;33m)\u001B[0m\u001B[1;33m.\u001B[0m\u001B[0mstr\u001B[0m\u001B[1;33m[\u001B[0m\u001B[1;36m0\u001B[0m\u001B[1;33m]\u001B[0m\u001B[1;33m.\u001B[0m\u001B[0mupper\u001B[0m\u001B[1;33m(\u001B[0m\u001B[1;33m)\u001B[0m\u001B[1;33m\u001B[0m\u001B[1;33m\u001B[0m\u001B[0m\n\u001B[0m",
      "\u001B[1;32mC:\\ProgramData\\Anaconda3\\lib\\site-packages\\pandas\\core\\generic.py\u001B[0m in \u001B[0;36m__getattr__\u001B[1;34m(self, name)\u001B[0m\n\u001B[0;32m   5463\u001B[0m             \u001B[1;32mif\u001B[0m \u001B[0mself\u001B[0m\u001B[1;33m.\u001B[0m\u001B[0m_info_axis\u001B[0m\u001B[1;33m.\u001B[0m\u001B[0m_can_hold_identifiers_and_holds_name\u001B[0m\u001B[1;33m(\u001B[0m\u001B[0mname\u001B[0m\u001B[1;33m)\u001B[0m\u001B[1;33m:\u001B[0m\u001B[1;33m\u001B[0m\u001B[1;33m\u001B[0m\u001B[0m\n\u001B[0;32m   5464\u001B[0m                 \u001B[1;32mreturn\u001B[0m \u001B[0mself\u001B[0m\u001B[1;33m[\u001B[0m\u001B[0mname\u001B[0m\u001B[1;33m]\u001B[0m\u001B[1;33m\u001B[0m\u001B[1;33m\u001B[0m\u001B[0m\n\u001B[1;32m-> 5465\u001B[1;33m             \u001B[1;32mreturn\u001B[0m \u001B[0mobject\u001B[0m\u001B[1;33m.\u001B[0m\u001B[0m__getattribute__\u001B[0m\u001B[1;33m(\u001B[0m\u001B[0mself\u001B[0m\u001B[1;33m,\u001B[0m \u001B[0mname\u001B[0m\u001B[1;33m)\u001B[0m\u001B[1;33m\u001B[0m\u001B[1;33m\u001B[0m\u001B[0m\n\u001B[0m\u001B[0;32m   5466\u001B[0m \u001B[1;33m\u001B[0m\u001B[0m\n\u001B[0;32m   5467\u001B[0m     \u001B[1;32mdef\u001B[0m \u001B[0m__setattr__\u001B[0m\u001B[1;33m(\u001B[0m\u001B[0mself\u001B[0m\u001B[1;33m,\u001B[0m \u001B[0mname\u001B[0m\u001B[1;33m:\u001B[0m \u001B[0mstr\u001B[0m\u001B[1;33m,\u001B[0m \u001B[0mvalue\u001B[0m\u001B[1;33m)\u001B[0m \u001B[1;33m->\u001B[0m \u001B[1;32mNone\u001B[0m\u001B[1;33m:\u001B[0m\u001B[1;33m\u001B[0m\u001B[1;33m\u001B[0m\u001B[0m\n",
      "\u001B[1;31mAttributeError\u001B[0m: 'Series' object has no attribute 'upper'"
     ]
    }
   ],
   "source": [],
   "metadata": {
    "collapsed": false,
    "pycharm": {
     "name": "#%%\n"
    }
   }
  }
 ],
 "metadata": {
  "kernelspec": {
   "display_name": "Python 3",
   "language": "python",
   "name": "python3"
  },
  "language_info": {
   "codemirror_mode": {
    "name": "ipython",
    "version": 3
   },
   "file_extension": ".py",
   "mimetype": "text/x-python",
   "name": "python",
   "nbconvert_exporter": "python",
   "pygments_lexer": "ipython3",
   "version": "3.8.8"
  }
 },
 "nbformat": 4,
 "nbformat_minor": 5
}